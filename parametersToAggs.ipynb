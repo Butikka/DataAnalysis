{
 "cells": [
  {
   "cell_type": "markdown",
   "metadata": {},
   "source": [
    "## Adding parameters to the data model\n",
    "**ema20** = exponential moving average 20 days.\n",
    "**ema50** = exponential moving average 50 days.\n",
    "**openHigher** = If Open > (1,01 * Previous day Close) then 1 else 0.\n",
    "**strongClose** = function=(High + Low) / 2. If Close > 'function' then 1 else 0. Maybe not necessary. Lets try model with and without the strongClose parameter.\n",
    "**averageVolume** = Average volume from past 200 days. 200 simple moving average for volume.\n",
    "**strongVolume** = If Volume > (2 * averageVolume) then 1 else 0.\n",
    "**strongVolume6MoPrior** = If strongVolume is equal to 1 more than 3 times in the past 126 days then 1 else 0.\n",
    "**strongVolumeAfterFiling** = If strongVolume is equal to 1 more 2 times in the following 5 days after financialRelease = 1 then 1 else 0.\n",
    "**accVolume** = If strongVolume = 1 and strongVolume6MoPrior = 1 and strongVolumeAfterFiling = 1 then 1 else 0.\n",
    "**uptrend** = If ema50 > (ema50 50 days prior) then 1 else 0."
   ]
  },
  {
   "cell_type": "code",
   "execution_count": 1,
   "metadata": {},
   "outputs": [],
   "source": [
    "import requests\n",
    "import pandas as pd\n",
    "# from datetime import datetime, timedelta, date\n",
    "import datetime\n",
    "import time\n",
    "from polygon import RESTClient\n",
    "import logging\n",
    "import signal\n",
    "import sys\n",
    "import pickle\n",
    "import lz4.frame  # type: ignore\n",
    "import concurrent.futures\n",
    "import os\n",
    "import pandas as pd\n",
    "import numpy as np\n",
    "import glob\n",
    "import nbimporter\n",
    "from readRawAggs import main"
   ]
  },
  {
   "cell_type": "code",
   "execution_count": null,
   "metadata": {},
   "outputs": [],
   "source": [
    "# # Define the path to your existing CSV file\n",
    "# csv_file_path = r\"C:\\Users\\SamuliMustonen\\Documents\\Ready Solutions\\Docs\\StockTrading\\Data\\ntnx_data_raw.csv\"\n",
    "# # Load the CSV file into a DataFrame\n",
    "# df = pd.read_csv(csv_file_path, delimiter=';', header=0)"
   ]
  },
  {
   "cell_type": "code",
   "execution_count": null,
   "metadata": {},
   "outputs": [],
   "source": [
    "# Function to calculate EMA\n",
    "def calculate_ema(data, window):\n",
    "    \"\"\"Calculate the Exponential Moving Average (EMA) for a given window.\"\"\"\n",
    "    # Calculate EMA using ewm() and handle insufficient data gracefully\n",
    "    ema = (data.groupby('symbol')['close'].ewm(span=window, adjust=False).mean()).round(2)\n",
    "    \n",
    "    # Replace initial values with NaN for insufficient data\n",
    "    if len(data) < window:\n",
    "        ema[:window] = None  # Set initial window values to None (NaN)\n",
    "    \n",
    "    return ema"
   ]
  },
  {
   "cell_type": "code",
   "execution_count": null,
   "metadata": {},
   "outputs": [],
   "source": [
    "# Function to calculate openHigher.\n",
    "def calculate_open_higher(data):\n",
    "    \"\"\"Calculate if price opens higher than previous day close.\"\"\"\n",
    "    multiplier = 1.01\n",
    "    openHigher = (data.groupby('symbol')['open'] > (multiplier * data.groupby('symbol')['close'].shift(1))).astype(int)\n",
    "    \n",
    "    return openHigher"
   ]
  },
  {
   "cell_type": "code",
   "execution_count": null,
   "metadata": {},
   "outputs": [],
   "source": [
    "# Function to calculate average volume\n",
    "def calculate_avg_volume(data, window):\n",
    "    \"\"\"Calculate the Average Volume for a given window.\"\"\"\n",
    "    # Calculate average volume and handle insufficient data gracefully\n",
    "    averageVolume = data.groupby('symbol')['volume'].transform(lambda x: x.rolling(window).mean()).astype(int)\n",
    "    \n",
    "    # Replace initial values with NaN for insufficient data\n",
    "    if len(data) < window:\n",
    "        averageVolume[:window] = None  # Set initial window values to None (NaN)\n",
    "    \n",
    "    return averageVolume"
   ]
  },
  {
   "cell_type": "code",
   "execution_count": null,
   "metadata": {},
   "outputs": [],
   "source": [
    "# Function to calculate strong volume\n",
    "def calculate_strong_volume(data):\n",
    "    \"\"\"Calculate the Strong Volume.\"\"\"\n",
    "    # Calculate strong volume and handle insufficient data gracefully\n",
    "    strongVolume = (data.groupby('symbol')['volume'] > 2 * data.groupby('symbol')['averageVolume']).astype(int)\n",
    "    \n",
    "    # Replace initial values with NaN for insufficient data\n",
    "    if len(data) < 100:\n",
    "        strongVolume = None  # Set initial window values to None (NaN)\n",
    "    \n",
    "    return strongVolume"
   ]
  },
  {
   "cell_type": "code",
   "execution_count": null,
   "metadata": {},
   "outputs": [],
   "source": [
    "# Function to calculate strong volume 6 months prior of openHigher\n",
    "def calculate_strong_volume_prior(data, window):\n",
    "    \"\"\"Calculate the Strong Volume 6 Months Prior.\"\"\"\n",
    "    # Calculate strong volume 6 months prior and handle insufficient data gracefully\n",
    "    strongVolume6MoPrior = data.groupby('symbol')['strongVolume'].rolling(window).sum().shift(1)\n",
    "\n",
    "    # Replace initial values with NaN for insufficient data\n",
    "    if len(data) < 100:\n",
    "        strongVolume6MoPrior = None  # Set initial window values to None (NaN)\n",
    "    \n",
    "    return strongVolume6MoPrior"
   ]
  },
  {
   "cell_type": "code",
   "execution_count": null,
   "metadata": {},
   "outputs": [],
   "source": [
    "# Function to calculate strong volume after openHigher\n",
    "def calculate_strong_volume_after(data):\n",
    "    \"\"\"Calculate the Strong Volume After Open Higher.\"\"\"\n",
    "    # Calculate strong volume after opening higher and handle insufficient data gracefully\n",
    "    data['strongVolumeAfterOpenHigher'] = 0\n",
    "    # Group by 'symbol' (ticker)\n",
    "    for symbol, group in data.groupby('symbol'):\n",
    "        \n",
    "        # Loop through the group (which corresponds to one stock ticker)\n",
    "        for i in range(len(group) - 5):\n",
    "            if group.iloc[i]['openHigher'] == 1:  # Check 'openHigher' in the current row\n",
    "                # Check if 'strongVolume' is True more than 2 times in the next 5 rows\n",
    "                if group.iloc[i+1:i+6]['strongVolume'].sum() > 2:\n",
    "                    # Set 'strongVolumeAfterOpenHigher' to 1 for the next 5 rows\n",
    "                    data.loc[group.index[i+1:i+6], 'strongVolumeAfterOpenHigher'] = 1\n",
    "    \n",
    "    return data"
   ]
  },
  {
   "cell_type": "code",
   "execution_count": null,
   "metadata": {},
   "outputs": [],
   "source": [
    "# Function to calculate accumulating volume that includes all previous volume functions\n",
    "def calculate_accumulating_volume(data):\n",
    "    \"\"\"Calculate the accumulating volume.\"\"\"\n",
    "    accVolume = ((data['strongVolume'] == 1) & (data['strongVolume6MoPrior'] == 1) & (data['strongVolumeAfterOpenHigher'] == 1)).astype(int)\n",
    "    \n",
    "    return accVolume"
   ]
  },
  {
   "cell_type": "code",
   "execution_count": null,
   "metadata": {},
   "outputs": [],
   "source": [
    "# Function to calculate uptrend from ema50.\n",
    "def calculate_uptrend(data):\n",
    "    \"\"\"Calculate the Strong Volume 6 Months Prior.\"\"\"\n",
    "    # Calculate strong volume 6 months prior and handle insufficient data gracefully\n",
    "    uptrend = (data.groupby('symbol')['ema50'] > data.groupby('symbol')['ema50'].shift(22)).astype(int)\n",
    "    \n",
    "    return uptrend"
   ]
  },
  {
   "cell_type": "code",
   "execution_count": 2,
   "metadata": {},
   "outputs": [
    {
     "name": "stdout",
     "output_type": "stream",
     "text": [
      "  symbol    close   open   high     low     volume   timestamp\n",
      "0   AACT  10.1200  10.10  10.15  10.100   603102.0  2023-06-12\n",
      "1   AACT  10.1100  10.14  10.14  10.110     5515.0  2023-06-13\n",
      "2   AACT  10.0998  10.11  10.13  10.095   143889.0  2023-06-14\n",
      "3   AACT  10.1100  10.11  10.11  10.100  2061100.0  2023-06-15\n",
      "4   AACT  10.1100  10.12  10.12  10.110   250958.0  2023-06-16\n"
     ]
    }
   ],
   "source": [
    "# Use main() from readRawAggs\n",
    "df = main()\n",
    "print(df.head())"
   ]
  },
  {
   "cell_type": "code",
   "execution_count": null,
   "metadata": {},
   "outputs": [],
   "source": [
    "# Use main() from readRawAggs\n",
    "df = main()\n",
    "#Sort the data by date\n",
    "df = df.sort_values(by=['symbol', 'timestamp'])\n",
    "\n",
    "# Calculate EMA20 and EMA50.\n",
    "df['ema20'] = calculate_ema(df, 20)\n",
    "df['ema50'] = calculate_ema(df, 50)\n",
    "\n",
    "# Calculate when stock opens higher than previous day close.\n",
    "df['openHigher'] = calculate_open_higher(df)\n",
    "\n",
    "# Calculate average volume from past 100 days.\n",
    "df['averageVolume'] = calculate_avg_volume(df, 100)\n",
    "\n",
    "# Calculate strong volume. 1 if over 2x average volume.\n",
    "df['strongVolume'] = calculate_strong_volume(df)\n",
    "\n",
    "# Calculate strong volume 6 months prior opening higher. 126 trading days is 6 months.\n",
    "df['strongVolume6MoPrior'] = calculate_strong_volume_prior(df, 126)\n",
    "\n",
    "# Calculate strong volume 6 months prior opening higher. 126 trading days is 6 months.\n",
    "df['strongVolumeAfterOpenHigher'] = calculate_strong_volume_prior(df, 126)\n",
    "\n",
    "\n",
    "\n",
    "\n",
    "# Calculate EMA20 and EMA50\n",
    "df['ema20'] = calculate_ema(df, 20)\n",
    "df['ema50'] = calculate_ema(df, 50)\n",
    "# Round ema20 and ema50 to 2 decimal places\n",
    "df['ema20'] = df['ema20'].round(2)\n",
    "df['ema50'] = df['ema50'].round(2)\n",
    "\n",
    "# **openHigher** = If Open > (1.01 * Previous day Close) then 1 else 0\n",
    "df['openHigher'] = (df['open'] > (1.01 * df['close'].shift(1))).astype(int)\n",
    "\n",
    "# **strongClose** = (High + Low) / 2. If Close > 'function' then 1 else 0\n",
    "# df['function'] = (df['high'] + df['low']) / 2\n",
    "# df['strongClose'] = (df['close'] > df['function']).astype(int)\n",
    "\n",
    "# Convert Volume to integer format\n",
    "df['volume'] = df['volume'].astype(int)  # Convert volume to integer\n",
    "\n",
    "# **averageVolume** = Average volume from past 200 days (SMA for volume)\n",
    "df['averageVolume'] = df['volume'].rolling(window=200).mean()\n",
    "df['averageVolume'] = df['averageVolume'].astype(int)\n",
    "\n",
    "# **strongVolume** = If Volume > (2 * averageVolume) then 1 else 0\n",
    "df['strongVolume'] = (df['volume'] > 2 * df['averageVolume']).astype(int)\n",
    "\n",
    "# **strongVolume6MoPrior** = If strongVolume is 1 more than 3 times in the past 126 days then 1 else 0\n",
    "df['strongVolume6MoPrior'] = df['strongVolume'].rolling(window=126).sum().shift(1)\n",
    "df['strongVolume6MoPrior'] = (df['strongVolume6MoPrior'] > 3).astype(int)\n",
    "\n",
    "# **strongVolumeAfterFiling** = If strongVolume is 1 more than 2 times in the 5 days after financialRelease = 1 then 1 else 0\n",
    "# df['strongVolumeAfterFiling'] = 0\n",
    "# for i in range(len(df) - 5):\n",
    "#     if df.loc[i, 'financialRelease'] == 1:\n",
    "#         if df.loc[i+1:i+5, 'strongVolume'].sum() > 2:\n",
    "#             df.loc[i+1:i+5, 'strongVolumeAfterFiling'] = 1\n",
    "\n",
    "# **accVolume** = If strongVolume = 1, strongVolume6MoPrior = 1, and strongVolumeAfterFiling = 1 then 1 else 0\n",
    "df['accVolume'] = ((df['strongVolume'] == 1) & \n",
    "                   (df['strongVolume6MoPrior'] == 1)) \n",
    "                #    (df['strongVolumeAfterFiling'] == 1)).astype(int)\n",
    "\n",
    "# **uptrend** = If ema50 > (ema50 50 days prior) then 1 else 0\n",
    "df['uptrend'] = (df['ema50'] > df['ema50'].shift(50)).astype(int)\n",
    "\n",
    "# Drop the 'function' column as it's intermediate\n",
    "df.drop(columns=['function'], inplace=True)\n",
    "\n",
    "# Save the updated DataFrame to a new CSV file with a timestamp\n",
    "timestamp = datetime.now().strftime('%Y%m%d_%H%M%S')\n",
    "new_csv_file_path = f\"C:/Users/SamuliMustonen/Documents/Ready Solutions/Docs/StockTrading/Data/data_model_{timestamp}.csv\"\n",
    "df.to_csv(new_csv_file_path, index=False)\n",
    "\n",
    "print(f\"Updated data with new columns saved to {new_csv_file_path}\")\n"
   ]
  }
 ],
 "metadata": {
  "kernelspec": {
   "display_name": "Python 3",
   "language": "python",
   "name": "python3"
  },
  "language_info": {
   "codemirror_mode": {
    "name": "ipython",
    "version": 3
   },
   "file_extension": ".py",
   "mimetype": "text/x-python",
   "name": "python",
   "nbconvert_exporter": "python",
   "pygments_lexer": "ipython3",
   "version": "3.9.11"
  }
 },
 "nbformat": 4,
 "nbformat_minor": 2
}
