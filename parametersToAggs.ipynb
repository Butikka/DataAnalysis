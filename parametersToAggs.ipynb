{
 "cells": [
  {
   "cell_type": "markdown",
   "metadata": {},
   "source": [
    "## Adding parameters to the data model\n",
    "**ema20** = exponential moving average 20 days.\n",
    "**ema50** = exponential moving average 50 days.\n",
    "**openHigher** = If Open > (1,01 * Previous day Close) then 1 else 0.\n",
    "**strongClose** = function=(High + Low) / 2. If Close > 'function' then 1 else 0. Maybe not necessary. Lets try model with and without the strongClose parameter.\n",
    "**averageVolume** = Average volume from past 200 days. 200 simple moving average for volume.\n",
    "**strongVolume** = If Volume > (2 * averageVolume) then 1 else 0.\n",
    "**strongVolume6MoPrior** = If strongVolume is equal to 1 more than 3 times in the past 126 days then 1 else 0.\n",
    "**strongVolumeAfterFiling** = If strongVolume is equal to 1 more 2 times in the following 5 days after financialRelease = 1 then 1 else 0.\n",
    "**accVolume** = If strongVolume = 1 and strongVolume6MoPrior = 1 and strongVolumeAfterFiling = 1 then 1 else 0.\n",
    "**uptrend** = If ema50 > (ema50 50 days prior) then 1 else 0."
   ]
  },
  {
   "cell_type": "code",
   "execution_count": 5,
   "metadata": {},
   "outputs": [],
   "source": [
    "import requests\n",
    "import pandas as pd\n",
    "# from datetime import datetime, timedelta, date\n",
    "import datetime\n",
    "import time\n",
    "from polygon import RESTClient\n",
    "import logging\n",
    "import signal\n",
    "import sys\n",
    "import pickle\n",
    "import lz4.frame  # type: ignore\n",
    "import concurrent.futures\n",
    "import os\n",
    "import pandas as pd\n",
    "import numpy as np\n",
    "import glob\n",
    "import nbimporter\n",
    "from readRawAggs import main"
   ]
  },
  {
   "cell_type": "code",
   "execution_count": null,
   "metadata": {},
   "outputs": [],
   "source": [
    "# # Define the path to your existing CSV file\n",
    "# csv_file_path = r\"C:\\Users\\SamuliMustonen\\Documents\\Ready Solutions\\Docs\\StockTrading\\Data\\ntnx_data_raw.csv\"\n",
    "# # Load the CSV file into a DataFrame\n",
    "# df = pd.read_csv(csv_file_path, delimiter=';', header=0)"
   ]
  },
  {
   "cell_type": "code",
   "execution_count": null,
   "metadata": {},
   "outputs": [],
   "source": [
    "# Function to calculate EMA\n",
    "def calculate_ema(data, window):\n",
    "    \"\"\"Calculate the Exponential Moving Average (EMA) for a given window.\"\"\"\n",
    "    # Calculate EMA using ewm() and handle insufficient data gracefully\n",
    "    ema = data['close'].ewm(span=window, adjust=False).mean()\n",
    "    \n",
    "    # Replace initial values with NaN for insufficient data\n",
    "    if len(data) < window:\n",
    "        ema[:window] = None  # Set initial window values to None (NaN)\n",
    "    \n",
    "    return ema"
   ]
  },
  {
   "cell_type": "code",
   "execution_count": 12,
   "metadata": {},
   "outputs": [],
   "source": [
    "# Use main() from readRawAggs\n",
    "\n",
    "def myfunction():\n",
    "    df = main()\n",
    "    if df is not None:\n",
    "        print(df.head())\n",
    "myfunction()"
   ]
  },
  {
   "cell_type": "code",
   "execution_count": null,
   "metadata": {},
   "outputs": [],
   "source": [
    "# Use main() from readRawAggs\n",
    "df = main()\n",
    "\n",
    "# Calculate EMA20 and EMA50\n",
    "df['ema20'] = calculate_ema(df, 20)\n",
    "df['ema50'] = calculate_ema(df, 50)\n",
    "# Round ema20 and ema50 to 2 decimal places\n",
    "df['ema20'] = df['ema20'].round(2)\n",
    "df['ema50'] = df['ema50'].round(2)\n",
    "\n",
    "# **openHigher** = If Open > (1.01 * Previous day Close) then 1 else 0\n",
    "df['openHigher'] = (df['open'] > (1.01 * df['close'].shift(1))).astype(int)\n",
    "\n",
    "# **strongClose** = (High + Low) / 2. If Close > 'function' then 1 else 0\n",
    "df['function'] = (df['high'] + df['low']) / 2\n",
    "df['strongClose'] = (df['close'] > df['function']).astype(int)\n",
    "\n",
    "# Convert Volume to integer format\n",
    "df['volume'] = df['volume'].astype(int)  # Convert volume to integer\n",
    "\n",
    "# **averageVolume** = Average volume from past 200 days (SMA for volume)\n",
    "df['averageVolume'] = df['volume'].rolling(window=200).mean()\n",
    "df['averageVolume'] = df['averageVolume'].astype(int)\n",
    "\n",
    "# **strongVolume** = If Volume > (2 * averageVolume) then 1 else 0\n",
    "df['strongVolume'] = (df['volume'] > 2 * df['averageVolume']).astype(int)\n",
    "\n",
    "# **strongVolume6MoPrior** = If strongVolume is 1 more than 3 times in the past 126 days then 1 else 0\n",
    "df['strongVolume6MoPrior'] = df['strongVolume'].rolling(window=126).sum().shift(1)\n",
    "df['strongVolume6MoPrior'] = (df['strongVolume6MoPrior'] > 3).astype(int)\n",
    "\n",
    "# **strongVolumeAfterFiling** = If strongVolume is 1 more than 2 times in the 5 days after financialRelease = 1 then 1 else 0\n",
    "# df['strongVolumeAfterFiling'] = 0\n",
    "# for i in range(len(df) - 5):\n",
    "#     if df.loc[i, 'financialRelease'] == 1:\n",
    "#         if df.loc[i+1:i+5, 'strongVolume'].sum() > 2:\n",
    "#             df.loc[i+1:i+5, 'strongVolumeAfterFiling'] = 1\n",
    "\n",
    "# **accVolume** = If strongVolume = 1, strongVolume6MoPrior = 1, and strongVolumeAfterFiling = 1 then 1 else 0\n",
    "df['accVolume'] = ((df['strongVolume'] == 1) & \n",
    "                   (df['strongVolume6MoPrior'] == 1)) \n",
    "                #    (df['strongVolumeAfterFiling'] == 1)).astype(int)\n",
    "\n",
    "# **uptrend** = If ema50 > (ema50 50 days prior) then 1 else 0\n",
    "df['uptrend'] = (df['ema50'] > df['ema50'].shift(50)).astype(int)\n",
    "\n",
    "# Drop the 'function' column as it's intermediate\n",
    "df.drop(columns=['function'], inplace=True)\n",
    "\n",
    "# Save the updated DataFrame to a new CSV file with a timestamp\n",
    "timestamp = datetime.now().strftime('%Y%m%d_%H%M%S')\n",
    "new_csv_file_path = f\"C:/Users/SamuliMustonen/Documents/Ready Solutions/Docs/StockTrading/Data/data_model_{timestamp}.csv\"\n",
    "df.to_csv(new_csv_file_path, index=False)\n",
    "\n",
    "print(f\"Updated data with new columns saved to {new_csv_file_path}\")\n"
   ]
  }
 ],
 "metadata": {
  "kernelspec": {
   "display_name": "Python 3",
   "language": "python",
   "name": "python3"
  },
  "language_info": {
   "codemirror_mode": {
    "name": "ipython",
    "version": 3
   },
   "file_extension": ".py",
   "mimetype": "text/x-python",
   "name": "python",
   "nbconvert_exporter": "python",
   "pygments_lexer": "ipython3",
   "version": "3.9.11"
  }
 },
 "nbformat": 4,
 "nbformat_minor": 2
}
