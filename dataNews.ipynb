{
 "cells": [
  {
   "cell_type": "markdown",
   "metadata": {},
   "source": [
    "# News from API"
   ]
  },
  {
   "cell_type": "code",
   "execution_count": 2,
   "metadata": {},
   "outputs": [
    {
     "name": "stdout",
     "output_type": "stream",
     "text": [
      "Pausing for 1 minute to respect API rate limit...\n",
      "Pausing for 1 minute to respect API rate limit...\n",
      "Pausing for 1 minute to respect API rate limit...\n",
      "Pausing for 1 minute to respect API rate limit...\n",
      "Pausing for 1 minute to respect API rate limit...\n",
      "Pausing for 1 minute to respect API rate limit...\n",
      "Pausing for 1 minute to respect API rate limit...\n",
      "Pausing for 1 minute to respect API rate limit...\n",
      "Pausing for 1 minute to respect API rate limit...\n",
      "Pausing for 1 minute to respect API rate limit...\n",
      "Pausing for 1 minute to respect API rate limit...\n",
      "Pausing for 1 minute to respect API rate limit...\n",
      "News data saved to C:/Users/SamuliMustonen/Documents/Ready Solutions/Docs/StockTrading/Data/ntnx_data_news_20241017_130940.csv\n"
     ]
    }
   ],
   "source": [
    "import requests\n",
    "import pandas as pd\n",
    "from datetime import datetime, timedelta\n",
    "import time\n",
    "\n",
    "# Define API key and base URL for News\n",
    "api_key = \"FDyVl7GLwOsIvkhy4fp1v3oEpCxHyyPp\"\n",
    "base_url_news = \"https://api.polygon.io/v2/reference/news\"\n",
    "\n",
    "# Define ticker and date range\n",
    "ticker = \"NTNX\"\n",
    "start_date = \"2023-08-01\"\n",
    "end_date = \"2023-09-30\"\n",
    "limit = 10  # Number of results to fetch per request\n",
    "all_news_data = []\n",
    "\n",
    "# Initialize API call counter\n",
    "api_call_count = 0\n",
    "\n",
    "# Function to handle API call rate limit\n",
    "def check_rate_limit():\n",
    "    global api_call_count\n",
    "    api_call_count += 1\n",
    "    if api_call_count >= 5:\n",
    "        print(\"Pausing for 1 minute to respect API rate limit...\")\n",
    "        time.sleep(60)  # Pause for 1 minute\n",
    "        api_call_count = 0  # Reset call count after sleeping\n",
    "\n",
    "# Function to fetch news data\n",
    "def fetch_news_data(ticker, date, limit):\n",
    "    url = f\"{base_url_news}?ticker={ticker}&published_utc={date}&limit={limit}&apiKey={api_key}\"\n",
    "    response = requests.get(url)\n",
    "    check_rate_limit()  # Check and handle API rate limit\n",
    "    \n",
    "    if response.status_code == 200:\n",
    "        return response.json()\n",
    "    else:\n",
    "        print(f\"Failed to fetch news for {date}: {response.status_code}\")\n",
    "        return None\n",
    "\n",
    "# Date range generator\n",
    "current_date = datetime.strptime(start_date, \"%Y-%m-%d\")\n",
    "end_date_dt = datetime.strptime(end_date, \"%Y-%m-%d\")\n",
    "\n",
    "while current_date <= end_date_dt:\n",
    "    date_str = current_date.strftime(\"%Y-%m-%d\")\n",
    "    news_data = fetch_news_data(ticker, date_str, limit)\n",
    "    \n",
    "    if news_data and news_data.get(\"status\") == \"OK\":\n",
    "        for item in news_data.get(\"results\", []):\n",
    "            news_entry = {\n",
    "                \"ticker\": item.get(\"tickers\", [])[0] if item.get(\"tickers\") else None,\n",
    "                \"Date\": item.get(\"published_utc\"),\n",
    "                \"Url\": item.get(\"article_url\"),\n",
    "                \"Keywords\": ', '.join(item.get(\"keywords\", []))\n",
    "            }\n",
    "            all_news_data.append(news_entry)\n",
    "\n",
    "    # Increment date\n",
    "    current_date += timedelta(days=1)\n",
    "\n",
    "# Convert news data to DataFrame\n",
    "df_news = pd.DataFrame(all_news_data)\n",
    "\n",
    "# Save the news data to a CSV file\n",
    "timestamp = datetime.now().strftime('%Y%m%d_%H%M%S')\n",
    "news_csv_file_path = f\"C:/Users/SamuliMustonen/Documents/Ready Solutions/Docs/StockTrading/Data/ntnx_data_news_{timestamp}.csv\"\n",
    "df_news.to_csv(news_csv_file_path, index=False)\n",
    "\n",
    "print(f\"News data saved to {news_csv_file_path}\")\n"
   ]
  }
 ],
 "metadata": {
  "kernelspec": {
   "display_name": "Python 3",
   "language": "python",
   "name": "python3"
  },
  "language_info": {
   "codemirror_mode": {
    "name": "ipython",
    "version": 3
   },
   "file_extension": ".py",
   "mimetype": "text/x-python",
   "name": "python",
   "nbconvert_exporter": "python",
   "pygments_lexer": "ipython3",
   "version": "3.11.1"
  }
 },
 "nbformat": 4,
 "nbformat_minor": 2
}
