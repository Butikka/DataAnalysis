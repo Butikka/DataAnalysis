{
 "cells": [
  {
   "cell_type": "code",
   "execution_count": 1,
   "metadata": {},
   "outputs": [],
   "source": [
    "import requests\n",
    "import pandas as pd\n",
    "# from datetime import datetime, timedelta, date\n",
    "import datetime\n",
    "import time\n",
    "from polygon import RESTClient\n",
    "import logging\n",
    "import signal\n",
    "import sys\n",
    "import pickle\n",
    "import lz4.frame  # type: ignore\n",
    "import concurrent.futures\n",
    "import os\n",
    "import pandas as pd\n",
    "import numpy as np\n",
    "import glob\n",
    "import nbimporter\n",
    "import gzip"
   ]
  },
  {
   "cell_type": "code",
   "execution_count": 2,
   "metadata": {},
   "outputs": [
    {
     "name": "stdout",
     "output_type": "stream",
     "text": [
      "File loaded successfully!\n",
      "  symbol  close   open   high    low   volume   timestamp  \\\n",
      "0   AACT  10.12  10.10  10.15  10.10   603100  2023-06-12   \n",
      "1   AACT  10.11  10.14  10.14  10.11     5500  2023-06-13   \n",
      "2   AACT  10.10  10.11  10.13  10.10   143900  2023-06-14   \n",
      "3   AACT  10.11  10.11  10.11  10.10  2061100  2023-06-15   \n",
      "4   AACT  10.11  10.12  10.12  10.11   251000  2023-06-16   \n",
      "\n",
      "   exceptionalCandleSize  ema20  ema50  openHigher  averageVolume  \\\n",
      "0                      0  10.12  10.12           0            NaN   \n",
      "1                      0  10.12  10.12           0            NaN   \n",
      "2                      0  10.12  10.12           0            NaN   \n",
      "3                      0  10.12  10.12           0            NaN   \n",
      "4                      0  10.12  10.12           0            NaN   \n",
      "\n",
      "   strongVolume  strongVolume6MoPrior  accVolume  uptrend  closeHigh  \n",
      "0             0                     0          0        0          0  \n",
      "1             0                     0          0        0          0  \n",
      "2             0                     0          0        0          0  \n",
      "3             0                     0          0        0          0  \n",
      "4             0                     0          0        0          0  \n"
     ]
    }
   ],
   "source": [
    "# Define the path to the saved .pickle.gz file\n",
    "file_path = \"C:\\\\Users\\\\SamuliMustonen\\\\Documents\\\\Ready Solutions\\\\Docs\\\\StockTrading\\\\Data\\\\rawComplete\\\\all_raw_data_2022-01-01_to_2024-09-30.pickle.gz\"\n",
    "\n",
    "# Load the DataFrame from the compressed pickle file\n",
    "try:\n",
    "    df = pd.read_pickle(file_path, compression='gzip')\n",
    "    print(\"File loaded successfully!\")\n",
    "    print(df.head())  # Display the first few rows\n",
    "except Exception as e:\n",
    "    print(f\"Error loading file: {e}\")\n"
   ]
  },
  {
   "cell_type": "code",
   "execution_count": 3,
   "metadata": {},
   "outputs": [
    {
     "name": "stdout",
     "output_type": "stream",
     "text": [
      "symbol                        0\n",
      "close                         0\n",
      "open                          0\n",
      "high                          0\n",
      "low                           0\n",
      "volume                        0\n",
      "timestamp                     0\n",
      "exceptionalCandleSize         0\n",
      "ema20                         0\n",
      "ema50                         0\n",
      "openHigher                    0\n",
      "averageVolume            113875\n",
      "strongVolume                  0\n",
      "strongVolume6MoPrior          0\n",
      "accVolume                     0\n",
      "uptrend                       0\n",
      "closeHigh                     0\n",
      "dtype: int64\n"
     ]
    }
   ],
   "source": [
    "# Check for missing values in the dataset\n",
    "missing_data = df.isnull().sum()\n",
    "print(missing_data)"
   ]
  },
  {
   "cell_type": "code",
   "execution_count": 4,
   "metadata": {},
   "outputs": [
    {
     "name": "stdout",
     "output_type": "stream",
     "text": [
      "Number of duplicate rows: 0\n"
     ]
    }
   ],
   "source": [
    "# Check for duplicates\n",
    "duplicates = df.duplicated().sum()\n",
    "print(f\"Number of duplicate rows: {duplicates}\")"
   ]
  },
  {
   "cell_type": "code",
   "execution_count": 5,
   "metadata": {},
   "outputs": [
    {
     "name": "stdout",
     "output_type": "stream",
     "text": [
      "               close           open           high            low  \\\n",
      "count  742709.000000  742709.000000  742709.000000  742709.000000   \n",
      "mean       25.280034      25.294837      25.746279      24.836079   \n",
      "std        44.232542      44.286322      44.986244      43.605948   \n",
      "min         0.250000       0.250000       0.250000       0.130000   \n",
      "25%         8.860000       8.870000       9.050000       8.670000   \n",
      "50%        15.430000      15.440000      15.720000      15.160000   \n",
      "75%        28.820000      28.830000      29.370000      28.290000   \n",
      "max      1743.820000    1900.000000    2555.300000    1730.670000   \n",
      "\n",
      "             volume  exceptionalCandleSize          ema20          ema50  \\\n",
      "count  7.427090e+05          742709.000000  742709.000000  742709.000000   \n",
      "mean   8.446777e+05               0.034748      25.407491      25.616118   \n",
      "std    2.944342e+06               0.183142      44.529832      45.078963   \n",
      "min    0.000000e+00               0.000000       0.420000       0.600000   \n",
      "25%    1.035000e+05               0.000000       8.930000       9.050000   \n",
      "50%    2.773000e+05               0.000000      15.500000      15.650000   \n",
      "75%    7.263000e+05               0.000000      28.900000      29.120000   \n",
      "max    6.342272e+08               1.000000    1743.820000    1743.820000   \n",
      "\n",
      "          openHigher  averageVolume   strongVolume  strongVolume6MoPrior  \\\n",
      "count  742709.000000   6.288340e+05  742709.000000         742709.000000   \n",
      "mean        0.009375   8.376760e+05       0.055535              0.699421   \n",
      "std         0.096370   2.071972e+06       0.229021              0.458510   \n",
      "min         0.000000   1.238100e+02       0.000000              0.000000   \n",
      "25%         0.000000   1.301092e+05       0.000000              0.000000   \n",
      "50%         0.000000   3.272746e+05       0.000000              1.000000   \n",
      "75%         0.000000   8.107753e+05       0.000000              1.000000   \n",
      "max         1.000000   5.046063e+07       1.000000              1.000000   \n",
      "\n",
      "           accVolume        uptrend      closeHigh  \n",
      "count  742709.000000  742709.000000  742709.000000  \n",
      "mean        0.048750       0.428533       0.003960  \n",
      "std         0.215345       0.494866       0.062802  \n",
      "min         0.000000       0.000000       0.000000  \n",
      "25%         0.000000       0.000000       0.000000  \n",
      "50%         0.000000       0.000000       0.000000  \n",
      "75%         0.000000       1.000000       0.000000  \n",
      "max         1.000000       1.000000       1.000000  \n"
     ]
    }
   ],
   "source": [
    "# Get summary statistics\n",
    "print(df.describe())"
   ]
  },
  {
   "cell_type": "code",
   "execution_count": 6,
   "metadata": {},
   "outputs": [
    {
     "name": "stdout",
     "output_type": "stream",
     "text": [
      "['AACT' 'AAOI' 'AAT' ... 'ZKH' 'ZUO' 'ZYME']\n"
     ]
    }
   ],
   "source": [
    "# List all unique symbols in the 'symbol' column\n",
    "unique_symbols = df['symbol'].unique()\n",
    "print(unique_symbols)"
   ]
  },
  {
   "cell_type": "code",
   "execution_count": 10,
   "metadata": {},
   "outputs": [
    {
     "name": "stdout",
     "output_type": "stream",
     "text": [
      "['AAOI' 'ACHR' 'ACMR' 'AGL' 'ALRS' 'AMBC' 'AMSC' 'AMWD' 'ANIP' 'APLD'\n",
      " 'ARDX' 'ARHS' 'ARLO' 'ARVN' 'ASPN' 'ATRC' 'ATRO' 'AZTA' 'BFST' 'BITF'\n",
      " 'BLBD' 'BLND' 'BTBT' 'BTDR' 'BZH' 'CAL' 'CARS' 'CDMO' 'CDRE' 'CENTA'\n",
      " 'CERT' 'CGNT' 'CIFR' 'CNTA' 'COCO' 'COUR' 'CRESY' 'CRMD' 'CRSR' 'CSIQ'\n",
      " 'CXM' 'DAKT' 'DESP' 'DHC' 'DMRC' 'DOLE' 'ECVT' 'EDN' 'ENVX' 'EOSE' 'ETNB'\n",
      " 'EVLV' 'EYPT' 'FDP' 'FLWS' 'FLYW' 'FNKO' 'FSLY' 'FVRR' 'FWRG' 'GBX' 'GCI'\n",
      " 'GENI' 'GIC' 'GIII' 'GLDD' 'GOTU' 'GPRE' 'HCI' 'HEPS' 'HLF' 'HLIT' 'HLX'\n",
      " 'HSII' 'HUT' 'HY' 'INOD' 'IPX' 'IREN' 'IRMD' 'IRON' 'IRWD' 'ITRN' 'JACK'\n",
      " 'KC' 'KNSA' 'LASR' 'LGF.A' 'LMAT' 'LMB' 'LQDA' 'LZ' 'LZB' 'MEG' 'MESO'\n",
      " 'METC' 'MLKN' 'MLR' 'MNKD' 'MNMD' 'MNTK' 'MSGE' 'MYRG' 'NEO' 'NEXT' 'NGL'\n",
      " 'NGVC' 'NNDM' 'NOVA' 'NRDS' 'NTB' 'OCUL' 'OFIX' 'OI' 'OMCL' 'OPK' 'OPRA'\n",
      " 'ORIC' 'OSPN' 'PBI' 'PD' 'PDFS' 'PETQ' 'PFC' 'PGY' 'PLAB' 'PLPC' 'PLSE'\n",
      " 'PRAX' 'PRDO' 'PRG' 'PSFE' 'PTON' 'QNST' 'RAMP' 'RBBN' 'RDFN' 'REPL'\n",
      " 'REPX' 'REX' 'RGR' 'ROCK' 'RSI' 'SCS' 'SKE' 'SKWD' 'SLNO' 'SNDX' 'SONO'\n",
      " 'SOUN' 'SSYS' 'STGW' 'SVC' 'SVRA' 'SWBI' 'SWIM' 'TBLA' 'TERN' 'TIGR'\n",
      " 'TLRY' 'TNC' 'TNGX' 'TNK' 'TRIN' 'TRTX' 'UPWK' 'UTI' 'VICR' 'VRDN' 'VRE'\n",
      " 'VTEX' 'WOR' 'WULF' 'YEXT' 'YMAB' 'ZUO']\n",
      "176\n"
     ]
    }
   ],
   "source": [
    "# Filter for a specific symbol and date range within 2023\n",
    "# symbol_filter = 'ABUS'  # Replace with the symbol you want to filter\n",
    "date_filter = (df['timestamp'] >= '2023-01-01') & (df['timestamp'] <= '2023-12-31')\n",
    "openHigher = (df['openHigher'] == 1)\n",
    "accVolume = (df['accVolume']==1)\n",
    "uptrend = (df['uptrend']==1)\n",
    "excCandle = (df['exceptionalCandleSize']==1)\n",
    "closeHigh = (df['closeHigh']==1)\n",
    "\n",
    "# Apply filters\n",
    "filtered_df = df[date_filter & openHigher & accVolume & uptrend & excCandle & closeHigh]\n",
    "# filtered_df = df[date_filter & openHigher & accVolume & uptrend & excCandle]\n",
    "\n",
    "# View the filtered DataFrame\n",
    "unique_symbols = filtered_df['symbol'].unique()\n",
    "unique_count_symbols = filtered_df['symbol'].nunique()\n",
    "print(unique_symbols)\n",
    "print(unique_count_symbols)\n",
    "# print(filtered_df)"
   ]
  },
  {
   "cell_type": "code",
   "execution_count": 13,
   "metadata": {},
   "outputs": [
    {
     "name": "stdout",
     "output_type": "stream",
     "text": [
      "     symbol  close   open   high    low   volume   timestamp  \\\n",
      "7517   ACMR  14.83  14.61  15.59  14.33  1979800  2023-07-03   \n",
      "\n",
      "      exceptionalCandleSize  ema20  ema50  openHigher  averageVolume  \\\n",
      "7517                      1  12.05   11.2           1      666342.43   \n",
      "\n",
      "      strongVolume  strongVolume6MoPrior  accVolume  uptrend  closeHigh  \n",
      "7517             1                     1          1        1          1  \n"
     ]
    }
   ],
   "source": [
    "# Filter for a specific symbol and date range within 2023\n",
    "symbol_filter = 'ACMR'  # Replace with the symbol you want to filter\n",
    "date_filter = (df['timestamp'] >= '2023-01-01') & (df['timestamp'] <= '2023-12-31')\n",
    "openHigher = (df['openHigher'] == 1)\n",
    "accVolume = (df['accVolume']==1)\n",
    "uptrend = (df['uptrend']==1)\n",
    "excCandle = (df['exceptionalCandleSize']==1)\n",
    "closeHigh = (df['closeHigh']==1)\n",
    "\n",
    "# Apply all filters at once\n",
    "filtered_df = df[\n",
    "    (df['symbol'] == symbol_filter) & \n",
    "    date_filter & \n",
    "    openHigher & \n",
    "    accVolume & \n",
    "    uptrend & \n",
    "    excCandle &\n",
    "    closeHigh\n",
    "]\n",
    "\n",
    "# View the filtered DataFrame\n",
    "print(filtered_df)"
   ]
  }
 ],
 "metadata": {
  "kernelspec": {
   "display_name": "Python 3",
   "language": "python",
   "name": "python3"
  },
  "language_info": {
   "codemirror_mode": {
    "name": "ipython",
    "version": 3
   },
   "file_extension": ".py",
   "mimetype": "text/x-python",
   "name": "python",
   "nbconvert_exporter": "python",
   "pygments_lexer": "ipython3",
   "version": "3.9.11"
  }
 },
 "nbformat": 4,
 "nbformat_minor": 2
}
