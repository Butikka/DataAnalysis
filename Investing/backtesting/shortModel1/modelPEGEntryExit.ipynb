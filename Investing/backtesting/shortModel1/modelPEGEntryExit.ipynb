{
 "cells": [
  {
   "cell_type": "markdown",
   "metadata": {},
   "source": [
    "## Model 1: Entry and exit rules for backtesting - SHORT\n",
    "\n",
    "**Model 1:** EMA50 crossover entry and trailing stop exit when in profit. \n",
    "**Entry:** After the model gives an alert and the close price has crossed down ema50 and stays below less than 14 days. When price crosses ema50 up and closes higher than ema50 for two consecutive days the entry is executed. \n",
    "**Exit:** After the entry when trailing stop price is higher than a day's low the exit is executed."
   ]
  },
  {
   "cell_type": "code",
   "execution_count": null,
   "metadata": {},
   "outputs": [],
   "source": [
    "import requests\n",
    "import pandas as pd\n",
    "# from datetime import datetime, timedelta, date\n",
    "from datetime import datetime\n",
    "import time\n",
    "from polygon import RESTClient\n",
    "import logging\n",
    "import signal\n",
    "import sys\n",
    "import pickle\n",
    "import lz4.frame  # type: ignore\n",
    "import concurrent.futures\n",
    "import os\n",
    "import sys\n",
    "import pandas as pd\n",
    "import numpy as np\n",
    "import glob\n",
    "import nbimporter\n",
    "import gzip\n",
    "from modelPEG import main\n"
   ]
  },
  {
   "cell_type": "code",
   "execution_count": null,
   "metadata": {},
   "outputs": [],
   "source": [
    "# Call the main function and store the returned DataFrame\n",
    "# df = main()"
   ]
  },
  {
   "cell_type": "code",
   "execution_count": null,
   "metadata": {},
   "outputs": [],
   "source": [
    "# Show dataframe\n",
    "# print(df.head())"
   ]
  },
  {
   "cell_type": "code",
   "execution_count": null,
   "metadata": {},
   "outputs": [],
   "source": [
    "# Example DataFrame setup\n",
    "# df_test = pd.DataFrame({\n",
    "#     'timestamp': pd.to_datetime([1,2,3,4,5,6,7,8,9,10], unit='D', origin='2022-01-01'),  # sample dates\n",
    "#     'symbol': ['AA','AA','AA','AA','AA','BB','BB','BB','BB','BB'],  \n",
    "#     'close': [10,9,11,11,9,100,110,120,125,150],\n",
    "#     'ema50': [9,10,10.5,10,10,95,115,110,120,130],\n",
    "#     'pegAlert': [1,0,0,0,0,1,0,0,0,0],\n",
    "#     'trailingStop': [11,11,12,12,8,101,111,121,126,145]\n",
    "# })"
   ]
  },
  {
   "cell_type": "code",
   "execution_count": null,
   "metadata": {},
   "outputs": [],
   "source": [
    "# Example DataFrame setup\n",
    "# df_test = pd.DataFrame({\n",
    "#     'timestamp': pd.to_datetime([1,2,3,4,5], unit='D', origin='2022-01-01'),  # sample dates\n",
    "#     'symbol': ['BB','BB','BB','BB','BB'],  \n",
    "#     'close': [100,110,120,130,150],\n",
    "#     'ema50': [95,115,110,120,130],\n",
    "#     'pegAlert': [1,0,0,0,0]\n",
    "# })"
   ]
  },
  {
   "cell_type": "code",
   "execution_count": null,
   "metadata": {},
   "outputs": [],
   "source": [
    "def calculate_cross_below_ema50(df):    \n",
    "    df['crossBelowEma50'] = 0  # Initialize the Entry column with 0\n",
    "\n",
    "    # Reset index to ensure consecutive indexing within each symbol group\n",
    "    df = df.reset_index(drop=True)\n",
    "\n",
    "    # Iterate over rows where alert is 1\n",
    "    for i, row in df[df['pegAlert'] == 1].iterrows():\n",
    "        # Define the 90-row window after the alert\n",
    "        end_index = min(i + 90, len(df))  # Ensure we don't go out of range\n",
    "        for j in range(i + 1, end_index):\n",
    "            # Check if 'close' is below 'ema50' within the 90-row window\n",
    "            if df.at[j, 'close'] < df.at[j, 'ema50']:\n",
    "                df.at[j, 'crossBelowEma50'] = 1  # Set 'Entry' to 1 in the row where condition is met\n",
    "                break  # Stop searching within the 90-row window once condition is satisfied\n",
    "    return df\n"
   ]
  },
  {
   "cell_type": "code",
   "execution_count": null,
   "metadata": {},
   "outputs": [],
   "source": [
    "def calculate_entry(df):    \n",
    "    # Initialize the entryPos column with 0\n",
    "    df['entryPos'] = 0\n",
    "\n",
    "    # Reset index to ensure consecutive indexing within each symbol group\n",
    "    df = df.reset_index(drop=True)  \n",
    "\n",
    "    # Initialize a counter for entries\n",
    "    entry_counter = 1\n",
    "\n",
    "    # Iterate over rows where 'crossBelowEma50' is 1\n",
    "    for i, row in df[df['crossBelowEma50'] == 1].iterrows():\n",
    "        # Define the 14-row window after the alert\n",
    "        end_index = min(i + 14, len(df))  # Ensure we don't go out of range\n",
    "        for j in range(i + 1, len(df)):\n",
    "            # Check if 'close' is above 'ema50' within the 14-row window\n",
    "            if df.at[j, 'close'] > df.at[j, 'ema50']:\n",
    "                # The immediate next row (j + 1) remains 0\n",
    "                delayed_index_3 = j + 2  # Check 3 rows after the condition is met\n",
    "                \n",
    "                # Check for the condition three rows after j\n",
    "                if delayed_index_3 < len(df) and df.at[delayed_index_3, 'close'] > df.at[delayed_index_3, 'ema50']:\n",
    "                    # Set entryPos to the current value of entry_counter for j + 3\n",
    "                    df.at[delayed_index_3, 'entryPos'] = entry_counter  \n",
    "                    entry_counter += 1  # Increment the counter for the next occurrence\n",
    "                \n",
    "                break  # Stop searching within the 14-row window once the first condition is satisfied\n",
    "    return df\n"
   ]
  },
  {
   "cell_type": "code",
   "execution_count": null,
   "metadata": {},
   "outputs": [],
   "source": [
    "def calculate_cross_below_ema50_for_symbols(df, symbols):\n",
    "    # Initialize an empty list to hold DataFrames for each symbol\n",
    "    df_list = []\n",
    "\n",
    "    for symbol in symbols:\n",
    "        # Filter the DataFrame for the current symbol\n",
    "        df_symbol = df[df['symbol'] == symbol].copy()\n",
    "        \n",
    "        # Call the calculation function for the filtered symbol DataFrame\n",
    "        df_symbol = calculate_cross_below_ema50(df_symbol)\n",
    "        \n",
    "        # Append the processed DataFrame to the list\n",
    "        df_list.append(df_symbol)\n",
    "\n",
    "    # Concatenate all symbol DataFrames into one final DataFrame\n",
    "    df_final = pd.concat(df_list, ignore_index=True)\n",
    "    \n",
    "    return df_final"
   ]
  },
  {
   "cell_type": "code",
   "execution_count": null,
   "metadata": {},
   "outputs": [],
   "source": [
    "def calculate_entry_for_symbols(df, symbols):\n",
    "    # Initialize an empty list to hold DataFrames for each symbol\n",
    "    df_list = []\n",
    "\n",
    "    for symbol in symbols:\n",
    "        # Filter the DataFrame for the current symbol\n",
    "        df_symbol = df[df['symbol'] == symbol].copy()\n",
    "        \n",
    "        # Call the calculation function for the filtered symbol DataFrame\n",
    "        df_symbol = calculate_entry(df_symbol)\n",
    "        \n",
    "        # Append the processed DataFrame to the list\n",
    "        df_list.append(df_symbol)\n",
    "\n",
    "    # Concatenate all symbol DataFrames into one final DataFrame\n",
    "    df_final = pd.concat(df_list, ignore_index=True)\n",
    "    \n",
    "    return df_final"
   ]
  },
  {
   "cell_type": "code",
   "execution_count": null,
   "metadata": {},
   "outputs": [],
   "source": [
    "def calculate_exit(df):    \n",
    "    df['exitPos'] = 0  # Initialize the Entry column with 0\n",
    "\n",
    "    # Reset index to ensure consecutive indexing within each symbol group\n",
    "    df = df.reset_index(drop=True)\n",
    "\n",
    "    # Initialize exit counter.\n",
    "    exit_counter = 1\n",
    "\n",
    "    # Iterate over rows where alert is 1\n",
    "    for i, row in df[df['entryPos'] >= 1].iterrows():\n",
    "        # Define the max df range.\n",
    "        for j in range(i + 1, len(df)):\n",
    "            # Check if 'trailingStop' is lower than 'high' within dataframe.\n",
    "            if df.at[j, 'trailingStop'] <= df.at[j, 'high'] and df.at[j, 'close'] > df.at[j, 'open']:\n",
    "                # Set entryPos to the current value of entry_counter for j + 3\n",
    "                df.at[j, 'exitPos'] = exit_counter  # Add 1 to 'exitPos' in the row where condition is met\n",
    "                exit_counter += 1  # Increment the counter for the next occurrence\n",
    "                break  # Stop searching within the df once condition is satisfied\n",
    "    return df"
   ]
  },
  {
   "cell_type": "code",
   "execution_count": null,
   "metadata": {},
   "outputs": [],
   "source": [
    "def calculate_exit_for_symbols(df, symbols):\n",
    "    # Initialize an empty list to hold DataFrames for each symbol\n",
    "    df_list = []\n",
    "\n",
    "    for symbol in symbols:\n",
    "        # Filter the DataFrame for the current symbol\n",
    "        df_symbol = df[df['symbol'] == symbol].copy()\n",
    "        \n",
    "        # Call the calculation function for the filtered symbol DataFrame\n",
    "        df_symbol = calculate_exit(df_symbol)\n",
    "        \n",
    "        # Append the processed DataFrame to the list\n",
    "        df_list.append(df_symbol)\n",
    "\n",
    "    # Concatenate all symbol DataFrames into one final DataFrame\n",
    "    df_final = pd.concat(df_list, ignore_index=True)\n",
    "    \n",
    "    return df_final"
   ]
  },
  {
   "cell_type": "code",
   "execution_count": null,
   "metadata": {},
   "outputs": [],
   "source": [
    "# Call the main function and store the returned DataFrame\n",
    "def load_data():\n",
    "    df = main()\n",
    "    return df"
   ]
  },
  {
   "cell_type": "code",
   "execution_count": null,
   "metadata": {},
   "outputs": [],
   "source": [
    "# Main function to run the process\n",
    "def entry_exit():\n",
    "    df = load_data()\n",
    "    # List of symbols from dataframe\n",
    "    symbols_list = df['symbol'].unique()\n",
    "    df = calculate_cross_below_ema50_for_symbols(df, symbols_list)\n",
    "    df = calculate_entry_for_symbols(df, symbols_list) # Entry Function for all symbols.\n",
    "    df = calculate_exit_for_symbols(df, symbols_list) # Exit Function for all symbols.\n",
    "    \n",
    "    return df"
   ]
  },
  {
   "cell_type": "code",
   "execution_count": null,
   "metadata": {},
   "outputs": [],
   "source": [
    "df = entry_exit()\n",
    "df.columns"
   ]
  },
  {
   "cell_type": "code",
   "execution_count": null,
   "metadata": {},
   "outputs": [],
   "source": [
    "# Save the alert list to csv.\n",
    "start_date = \"2022-01-01\"  \n",
    "end_date = \"2024-09-30\"    \n",
    "timestamp = datetime.now().strftime('%Y%m%d_%H%M%S')  # current timestamp\n",
    "\n",
    "save_path = \"C:\\\\Users\\\\SamuliMustonen\\\\Documents\\\\Ready Solutions\\\\Docs\\\\StockTrading\\\\Data\\\\entryExit\"\n",
    "file_name = f\"peg_with_entry_exit_{start_date}_to_{end_date}_{timestamp}.csv\"\n",
    "full_path = f\"{save_path}\\\\{file_name}\"\n",
    "\n",
    "# Save the DataFrame to CSV\n",
    "df.to_csv(full_path, index=False)\n",
    "\n",
    "print(f\"File saved to: {full_path}\")"
   ]
  }
 ],
 "metadata": {
  "kernelspec": {
   "display_name": "Python 3",
   "language": "python",
   "name": "python3"
  },
  "language_info": {
   "codemirror_mode": {
    "name": "ipython",
    "version": 3
   },
   "file_extension": ".py",
   "mimetype": "text/x-python",
   "name": "python",
   "nbconvert_exporter": "python",
   "pygments_lexer": "ipython3",
   "version": "3.9.11"
  }
 },
 "nbformat": 4,
 "nbformat_minor": 2
}
