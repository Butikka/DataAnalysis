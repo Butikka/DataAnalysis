{
 "cells": [
  {
   "cell_type": "markdown",
   "metadata": {},
   "source": [
    "## Model 1: Entry and exit rules for backtesting\n",
    "\n",
    "**Model 1:** EMA50 crossover entry and EMA20 downtrend signal exit."
   ]
  },
  {
   "cell_type": "code",
   "execution_count": 1,
   "metadata": {},
   "outputs": [],
   "source": [
    "import requests\n",
    "import pandas as pd\n",
    "# from datetime import datetime, timedelta, date\n",
    "from datetime import datetime\n",
    "import time\n",
    "from polygon import RESTClient\n",
    "import logging\n",
    "import signal\n",
    "import sys\n",
    "import pickle\n",
    "import lz4.frame  # type: ignore\n",
    "import concurrent.futures\n",
    "import os\n",
    "import sys\n",
    "import pandas as pd\n",
    "import numpy as np\n",
    "import glob\n",
    "import nbimporter\n",
    "import gzip\n",
    "from modelPEG import main\n"
   ]
  },
  {
   "cell_type": "code",
   "execution_count": 2,
   "metadata": {},
   "outputs": [
    {
     "name": "stdout",
     "output_type": "stream",
     "text": [
      "File loaded successfully!\n"
     ]
    }
   ],
   "source": [
    "# Call the main function and store the returned DataFrame\n",
    "df = main()"
   ]
  },
  {
   "cell_type": "code",
   "execution_count": 3,
   "metadata": {},
   "outputs": [
    {
     "name": "stdout",
     "output_type": "stream",
     "text": [
      "       symbol  close   open   high    low   volume   timestamp  \\\n",
      "318      AAOI   5.27   5.20   5.30   5.08   478600  2022-01-03   \n",
      "507822   PACB  20.90  20.50  21.01  19.51  2428600  2022-01-03   \n",
      "505755    OSW  10.50  10.08  10.73  10.08   252000  2022-01-03   \n",
      "505066   OSPN  17.23  16.99  17.26  16.74   126700  2022-01-03   \n",
      "503688   ORLA   3.88   3.81   3.88   3.64    43300  2022-01-03   \n",
      "\n",
      "        exceptionalCandleSize  ema20  ema50  openHigher  averageVolume  \\\n",
      "318                         0   5.27   5.27           0            NaN   \n",
      "507822                      0  20.90  20.90           0            NaN   \n",
      "505755                      0  10.50  10.50           0            NaN   \n",
      "505066                      0  17.23  17.23           0            NaN   \n",
      "503688                      0   3.88   3.88           0            NaN   \n",
      "\n",
      "        strongVolume  strongVolume6MoPrior  accVolume  uptrend  closeHigh  \\\n",
      "318                0                     1          0        0          0   \n",
      "507822             0                     1          0        0          0   \n",
      "505755             0                     1          0        0          0   \n",
      "505066             0                     1          0        0          0   \n",
      "503688             0                     0          0        0          0   \n",
      "\n",
      "        pegAlert  \n",
      "318            0  \n",
      "507822         0  \n",
      "505755         0  \n",
      "505066         0  \n",
      "503688         0  \n"
     ]
    }
   ],
   "source": [
    "# Show dataframe\n",
    "print(df.head())"
   ]
  },
  {
   "cell_type": "code",
   "execution_count": 5,
   "metadata": {},
   "outputs": [],
   "source": [
    "# Example DataFrame setup\n",
    "df_test = pd.DataFrame({\n",
    "    'timestamp': pd.to_datetime([1,2,3,4,5,6,7,8,9,10], unit='D', origin='2022-01-01'),  # sample dates\n",
    "    'symbol': ['AA','AA','AA','AA','AA','AA','AA','AA','AA','AA'],  \n",
    "    'close': [10,11,11,10.2,11,13,12,14,13,15],\n",
    "    'ema50': [9,10,10.5,10.5,10.5,11,11.5,11.5,12,13],\n",
    "    'pegAlert': [0,1,0,0,0,0,0,0,0,0],  \n",
    "})"
   ]
  },
  {
   "cell_type": "code",
   "execution_count": 10,
   "metadata": {},
   "outputs": [
    {
     "name": "stdout",
     "output_type": "stream",
     "text": [
      "   timestamp symbol  close  ema50  pegAlert  entry\n",
      "0 2022-01-02     AA   10.0    9.0         0      0\n",
      "1 2022-01-03     AA   11.0   10.0         1      1\n",
      "2 2022-01-04     AA   11.0   10.5         0      0\n",
      "3 2022-01-05     AA   10.2   10.5         0      0\n",
      "4 2022-01-06     AA   11.0   10.5         0      0\n",
      "5 2022-01-07     AA   13.0   11.0         0      0\n",
      "6 2022-01-08     AA   12.0   11.5         0      0\n",
      "7 2022-01-09     AA   14.0   11.5         0      0\n",
      "8 2022-01-10     AA   13.0   12.0         0      0\n",
      "9 2022-01-11     AA   15.0   13.0         0      0\n"
     ]
    },
    {
     "name": "stderr",
     "output_type": "stream",
     "text": [
      "C:\\Users\\SamuliMustonen\\AppData\\Local\\Temp\\ipykernel_42628\\2047722309.py:16: FutureWarning: Not prepending group keys to the result index of transform-like apply. In the future, the group keys will be included in the index, regardless of whether the applied function returns a like-indexed object.\n",
      "To preserve the previous behavior, use\n",
      "\n",
      "\t>>> .groupby(..., group_keys=False)\n",
      "\n",
      "To adopt the future behavior and silence this warning, use \n",
      "\n",
      "\t>>> .groupby(..., group_keys=True)\n",
      "  df_test_grouped = df_test.groupby('symbol').apply(calculate_entry).reset_index(drop=True)\n"
     ]
    }
   ],
   "source": [
    "\n",
    "# Function to apply the entry rules per symbol\n",
    "def calculate_entry(df_test):\n",
    "    df_test['entry'] = 0  # Initialize the 'entry' column\n",
    "    \n",
    "    # Loop through the DataFrame row by row\n",
    "    for i in range(len(df_test)):\n",
    "        if df_test.loc[i, 'pegAlert'] == 1:\n",
    "            # Find the next 10 days (starting from the next day, i+1)\n",
    "            for j in range(i + 1, min(i + 8, len(df_test))):\n",
    "                if df_test.loc[j, 'close'] <= df_test.loc[j, 'ema50']:\n",
    "                    df_test.loc[i, 'entry'] = 1\n",
    "                    break  # Stop once the condition is met\n",
    "    return df_test\n",
    "\n",
    "# Group by symbol and apply the function\n",
    "df_test_grouped = df_test.groupby('symbol').apply(calculate_entry).reset_index(drop=True)\n",
    "\n",
    "# Display the updated DataFrame\n",
    "print(df_test_grouped)\n"
   ]
  }
 ],
 "metadata": {
  "kernelspec": {
   "display_name": "Python 3",
   "language": "python",
   "name": "python3"
  },
  "language_info": {
   "codemirror_mode": {
    "name": "ipython",
    "version": 3
   },
   "file_extension": ".py",
   "mimetype": "text/x-python",
   "name": "python",
   "nbconvert_exporter": "python",
   "pygments_lexer": "ipython3",
   "version": "3.9.11"
  }
 },
 "nbformat": 4,
 "nbformat_minor": 2
}
