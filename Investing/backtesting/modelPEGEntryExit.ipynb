{
 "cells": [
  {
   "cell_type": "markdown",
   "metadata": {},
   "source": [
    "## Model 1: Entry and exit rules for backtesting\n",
    "\n",
    "**Model 1:** EMA50 crossover entry and EMA20 downtrend signal exit."
   ]
  },
  {
   "cell_type": "code",
   "execution_count": 1,
   "metadata": {},
   "outputs": [],
   "source": [
    "import requests\n",
    "import pandas as pd\n",
    "# from datetime import datetime, timedelta, date\n",
    "from datetime import datetime\n",
    "import time\n",
    "from polygon import RESTClient\n",
    "import logging\n",
    "import signal\n",
    "import sys\n",
    "import pickle\n",
    "import lz4.frame  # type: ignore\n",
    "import concurrent.futures\n",
    "import os\n",
    "import sys\n",
    "import pandas as pd\n",
    "import numpy as np\n",
    "import glob\n",
    "import nbimporter\n",
    "import gzip\n",
    "from modelPEG import main\n"
   ]
  },
  {
   "cell_type": "code",
   "execution_count": null,
   "metadata": {},
   "outputs": [],
   "source": [
    "# Call the main function and store the returned DataFrame\n",
    "df = main()"
   ]
  },
  {
   "cell_type": "code",
   "execution_count": null,
   "metadata": {},
   "outputs": [],
   "source": [
    "# Show dataframe\n",
    "print(df.head())"
   ]
  },
  {
   "cell_type": "code",
   "execution_count": 10,
   "metadata": {},
   "outputs": [],
   "source": [
    "# Example DataFrame setup\n",
    "df_test = pd.DataFrame({\n",
    "    'timestamp': pd.to_datetime([1,2,3,4,5,6,7,8,9,10], unit='D', origin='2022-01-01'),  # sample dates\n",
    "    'symbol': ['AA','AA','AA','AA','AA','BB','BB','BB','BB','BB'],  \n",
    "    'close': [10,9,11,11,9,100,110,120,125,150],\n",
    "    'ema50': [9,10,10.5,10,10,95,115,110,120,130],\n",
    "    'pegAlert': [1,0,0,0,0,1,0,0,0,0]\n",
    "})"
   ]
  },
  {
   "cell_type": "code",
   "execution_count": 74,
   "metadata": {},
   "outputs": [],
   "source": [
    "# Example DataFrame setup\n",
    "df_test = pd.DataFrame({\n",
    "    'timestamp': pd.to_datetime([1,2,3,4,5], unit='D', origin='2022-01-01'),  # sample dates\n",
    "    'symbol': ['BB','BB','BB','BB','BB'],  \n",
    "    'close': [100,110,120,130,150],\n",
    "    'ema50': [95,115,110,120,130],\n",
    "    'pegAlert': [1,0,0,0,0]\n",
    "})"
   ]
  },
  {
   "cell_type": "code",
   "execution_count": 11,
   "metadata": {},
   "outputs": [],
   "source": [
    "def calculate_cross_below_ema50(df):    \n",
    "    # Sample DataFrame for illustration\n",
    "    # Assuming 'symbol', 'date', 'close', 'open', 'ema20', 'ema50', and 'alert' columns exist in your DataFrame\n",
    "    df['crossBelowEma50'] = 0  # Initialize the Entry column with 0\n",
    "\n",
    "    # Reset index to ensure consecutive indexing within each symbol group\n",
    "    df = df.reset_index(drop=True)\n",
    "\n",
    "    # Iterate over rows where alert is 1\n",
    "    for i, row in df[df['pegAlert'] == 1].iterrows():\n",
    "        # Define the 5-row window after the alert\n",
    "        end_index = min(i + 5, len(df))  # Ensure we don't go out of range\n",
    "        for j in range(i + 1, end_index):\n",
    "            # Check if 'close' is below 'ema50' within the 5-row window\n",
    "            if df.at[j, 'close'] < df.at[j, 'ema50']:\n",
    "                df.at[j, 'crossBelowEma50'] = 1  # Set 'Entry' to 1 in the row where condition is met\n",
    "                break  # Stop searching within the 10-row window once condition is satisfied\n",
    "    return df\n",
    "\n",
    "# Display resulting DataFrame\n",
    "# df_test_grouped = df_test.groupby('symbol', group_keys = False).apply(calculate_cross_below_ema50).reset_index(drop=True)\n",
    "# print(df_test_grouped)"
   ]
  },
  {
   "cell_type": "code",
   "execution_count": 145,
   "metadata": {},
   "outputs": [],
   "source": [
    "def calculate_entry(df):    \n",
    "    # Initialize the Entry column with 0\n",
    "    df['entryPos'] = 0\n",
    "\n",
    "    # Reset index to ensure consecutive indexing within each symbol group\n",
    "    df = df.reset_index(drop=True)  \n",
    "\n",
    "    # Iterate over rows where 'crossBelowEma50' is 1\n",
    "    for i, row in df[df['crossBelowEma50'] == 1].iterrows():\n",
    "        # Define the 5-row window after the alert\n",
    "        end_index = min(i + 5, len(df))  # Ensure we don't go out of range\n",
    "        for j in range(i + 1, end_index):\n",
    "            # Check if 'close' is above 'ema50' within the 5-row window\n",
    "            if df.at[j, 'close'] > df.at[j, 'ema50']:\n",
    "                delayed_index = j + 1  # Set entryPos 2 days after the condition is met\n",
    "                if delayed_index < len(df):  # Check to avoid out of range\n",
    "                    df.at[delayed_index, 'entryPos'] = 1\n",
    "                break  # Stop searching within the 10-row window once condition is satisfied\n",
    "    return df\n",
    "\n",
    "# Apply the function by symbol\n",
    "# df_test_grouped_2 = df_test_grouped.groupby('symbol').apply(calculate_entry).reset_index(drop=True)\n",
    "# print(df_test_grouped_2)\n"
   ]
  },
  {
   "cell_type": "code",
   "execution_count": 12,
   "metadata": {},
   "outputs": [],
   "source": [
    "def calculate_entry_2(df):    \n",
    "    # Initialize the entryPos column with 0\n",
    "    df['entryPos'] = 0\n",
    "\n",
    "    # Reset index to ensure consecutive indexing within each symbol group\n",
    "    df = df.reset_index(drop=True)  \n",
    "\n",
    "    # Iterate over rows where 'crossBelowEma50' is 1\n",
    "    for i, row in df[df['crossBelowEma50'] == 1].iterrows():\n",
    "        # Define the 5-row window after the alert\n",
    "        end_index = min(i + 5, len(df))  # Ensure we don't go out of range\n",
    "        for j in range(i + 1, end_index):\n",
    "            # Check if 'close' is above 'ema50' within the 5-row window\n",
    "            if df.at[j, 'close'] > df.at[j, 'ema50']:\n",
    "                # The immediate next row (j + 1) remains 0\n",
    "                delayed_index_2 = j + 1  # Check 2 rows after the condition is met\n",
    "                \n",
    "                # Check for the condition two rows after j\n",
    "                if delayed_index_2 < len(df) and df.at[delayed_index_2, 'close'] > df.at[delayed_index_2, 'ema50']:\n",
    "                    df.at[delayed_index_2, 'entryPos'] = 1  # Set entryPos to 1 for j + 2\n",
    "                \n",
    "                break  # Stop searching within the 5-row window once the first condition is satisfied\n",
    "    return df\n"
   ]
  },
  {
   "cell_type": "code",
   "execution_count": 13,
   "metadata": {},
   "outputs": [],
   "source": [
    "def calculate_cross_below_ema50_for_symbols(df, symbols):\n",
    "    # Initialize an empty list to hold DataFrames for each symbol\n",
    "    df_list = []\n",
    "\n",
    "    for symbol in symbols:\n",
    "        # Filter the DataFrame for the current symbol\n",
    "        df_symbol = df[df['symbol'] == symbol].copy()\n",
    "        \n",
    "        # Call the calculation function for the filtered symbol DataFrame\n",
    "        df_symbol = calculate_cross_below_ema50(df_symbol)\n",
    "        \n",
    "        # Append the processed DataFrame to the list\n",
    "        df_list.append(df_symbol)\n",
    "\n",
    "    # Concatenate all symbol DataFrames into one final DataFrame\n",
    "    df_final = pd.concat(df_list, ignore_index=True)\n",
    "    \n",
    "    return df_final"
   ]
  },
  {
   "cell_type": "code",
   "execution_count": 14,
   "metadata": {},
   "outputs": [
    {
     "name": "stdout",
     "output_type": "stream",
     "text": [
      "['AA' 'BB']\n"
     ]
    }
   ],
   "source": [
    "# List of symbols from dataframe\n",
    "symbols_list = df_test['symbol'].unique()\n",
    "print(symbols_list)"
   ]
  },
  {
   "cell_type": "code",
   "execution_count": 15,
   "metadata": {},
   "outputs": [
    {
     "name": "stdout",
     "output_type": "stream",
     "text": [
      "   timestamp symbol  close  ema50  pegAlert  crossBelowEma50\n",
      "0 2022-01-02     AA     10    9.0         1                0\n",
      "1 2022-01-03     AA      9   10.0         0                1\n",
      "2 2022-01-04     AA     11   10.5         0                0\n",
      "3 2022-01-05     AA     11   10.0         0                0\n",
      "4 2022-01-06     AA      9   10.0         0                0\n",
      "5 2022-01-07     BB    100   95.0         1                0\n",
      "6 2022-01-08     BB    110  115.0         0                1\n",
      "7 2022-01-09     BB    120  110.0         0                0\n",
      "8 2022-01-10     BB    125  120.0         0                0\n",
      "9 2022-01-11     BB    150  130.0         0                0\n"
     ]
    }
   ],
   "source": [
    "\n",
    "df = calculate_cross_below_ema50_for_symbols(df_test, symbols_list)\n",
    "print(df)"
   ]
  },
  {
   "cell_type": "code",
   "execution_count": 16,
   "metadata": {},
   "outputs": [],
   "source": [
    "def calculate_entry_for_symbols(df, symbols):\n",
    "    # Initialize an empty list to hold DataFrames for each symbol\n",
    "    df_list = []\n",
    "\n",
    "    for symbol in symbols:\n",
    "        # Filter the DataFrame for the current symbol\n",
    "        df_symbol = df[df['symbol'] == symbol].copy()\n",
    "        \n",
    "        # Call the calculation function for the filtered symbol DataFrame\n",
    "        df_symbol = calculate_entry_2(df_symbol)\n",
    "        \n",
    "        # Append the processed DataFrame to the list\n",
    "        df_list.append(df_symbol)\n",
    "\n",
    "    # Concatenate all symbol DataFrames into one final DataFrame\n",
    "    df_final = pd.concat(df_list, ignore_index=True)\n",
    "    \n",
    "    return df_final"
   ]
  },
  {
   "cell_type": "code",
   "execution_count": 17,
   "metadata": {},
   "outputs": [
    {
     "name": "stdout",
     "output_type": "stream",
     "text": [
      "   timestamp symbol  close  ema50  pegAlert  crossBelowEma50  entryPos\n",
      "0 2022-01-02     AA     10    9.0         1                0         0\n",
      "1 2022-01-03     AA      9   10.0         0                1         0\n",
      "2 2022-01-04     AA     11   10.5         0                0         0\n",
      "3 2022-01-05     AA     11   10.0         0                0         1\n",
      "4 2022-01-06     AA      9   10.0         0                0         0\n",
      "5 2022-01-07     BB    100   95.0         1                0         0\n",
      "6 2022-01-08     BB    110  115.0         0                1         0\n",
      "7 2022-01-09     BB    120  110.0         0                0         0\n",
      "8 2022-01-10     BB    125  120.0         0                0         1\n",
      "9 2022-01-11     BB    150  130.0         0                0         0\n"
     ]
    }
   ],
   "source": [
    "df = calculate_entry_for_symbols(df, symbols_list)\n",
    "print(df)"
   ]
  }
 ],
 "metadata": {
  "kernelspec": {
   "display_name": "Python 3",
   "language": "python",
   "name": "python3"
  },
  "language_info": {
   "codemirror_mode": {
    "name": "ipython",
    "version": 3
   },
   "file_extension": ".py",
   "mimetype": "text/x-python",
   "name": "python",
   "nbconvert_exporter": "python",
   "pygments_lexer": "ipython3",
   "version": "3.9.11"
  }
 },
 "nbformat": 4,
 "nbformat_minor": 2
}
