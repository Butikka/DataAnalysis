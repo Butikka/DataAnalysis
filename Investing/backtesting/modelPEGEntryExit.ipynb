{
 "cells": [
  {
   "cell_type": "markdown",
   "metadata": {},
   "source": [
    "## Model 1: Entry and exit rules for backtesting\n",
    "\n",
    "**Model 1:** EMA50 crossover entry and EMA20 downtrend signal exit."
   ]
  },
  {
   "cell_type": "code",
   "execution_count": 18,
   "metadata": {},
   "outputs": [],
   "source": [
    "import requests\n",
    "import pandas as pd\n",
    "# from datetime import datetime, timedelta, date\n",
    "from datetime import datetime\n",
    "import time\n",
    "from polygon import RESTClient\n",
    "import logging\n",
    "import signal\n",
    "import sys\n",
    "import pickle\n",
    "import lz4.frame  # type: ignore\n",
    "import concurrent.futures\n",
    "import os\n",
    "import sys\n",
    "import pandas as pd\n",
    "import numpy as np\n",
    "import glob\n",
    "import nbimporter\n",
    "import gzip\n",
    "from modelPEG import main\n"
   ]
  },
  {
   "cell_type": "code",
   "execution_count": 19,
   "metadata": {},
   "outputs": [
    {
     "name": "stdout",
     "output_type": "stream",
     "text": [
      "File loaded successfully!\n"
     ]
    }
   ],
   "source": [
    "# Call the main function and store the returned DataFrame\n",
    "df = main()"
   ]
  },
  {
   "cell_type": "code",
   "execution_count": 20,
   "metadata": {},
   "outputs": [
    {
     "name": "stdout",
     "output_type": "stream",
     "text": [
      "       symbol  close   open   high    low   volume   timestamp  volatility  \\\n",
      "318      AAOI   5.27   5.20   5.30   5.08   478600  2022-01-03         NaN   \n",
      "507822   PACB  20.90  20.50  21.01  19.51  2428600  2022-01-03         NaN   \n",
      "505755    OSW  10.50  10.08  10.73  10.08   252000  2022-01-03         NaN   \n",
      "505066   OSPN  17.23  16.99  17.26  16.74   126700  2022-01-03         NaN   \n",
      "503688   ORLA   3.88   3.81   3.88   3.64    43300  2022-01-03         NaN   \n",
      "\n",
      "        trailingStop  exceptionalCandleSize  ema20  ema50  openHigher  \\\n",
      "318              NaN                      0   5.27   5.27           0   \n",
      "507822           NaN                      0  20.90  20.90           0   \n",
      "505755           NaN                      0  10.50  10.50           0   \n",
      "505066           NaN                      0  17.23  17.23           0   \n",
      "503688           NaN                      0   3.88   3.88           0   \n",
      "\n",
      "        averageVolume  strongVolume  strongVolume6MoPrior  accVolume  uptrend  \\\n",
      "318               NaN             0                     1          0        0   \n",
      "507822            NaN             0                     1          0        0   \n",
      "505755            NaN             0                     1          0        0   \n",
      "505066            NaN             0                     1          0        0   \n",
      "503688            NaN             0                     0          0        0   \n",
      "\n",
      "        closeHigh  pegAlert  \n",
      "318             0         0  \n",
      "507822          0         0  \n",
      "505755          0         0  \n",
      "505066          0         0  \n",
      "503688          0         0  \n"
     ]
    }
   ],
   "source": [
    "# Show dataframe\n",
    "print(df.head())"
   ]
  },
  {
   "cell_type": "code",
   "execution_count": 32,
   "metadata": {},
   "outputs": [],
   "source": [
    "# Example DataFrame setup\n",
    "# df_test = pd.DataFrame({\n",
    "#     'timestamp': pd.to_datetime([1,2,3,4,5,6,7,8,9,10], unit='D', origin='2022-01-01'),  # sample dates\n",
    "#     'symbol': ['AA','AA','AA','AA','AA','BB','BB','BB','BB','BB'],  \n",
    "#     'close': [10,9,11,11,9,100,110,120,125,150],\n",
    "#     'ema50': [9,10,10.5,10,10,95,115,110,120,130],\n",
    "#     'pegAlert': [1,0,0,0,0,1,0,0,0,0],\n",
    "#     'trailingStop': [11,11,12,12,8,101,111,121,126,145]\n",
    "# })"
   ]
  },
  {
   "cell_type": "code",
   "execution_count": 74,
   "metadata": {},
   "outputs": [],
   "source": [
    "# Example DataFrame setup\n",
    "# df_test = pd.DataFrame({\n",
    "#     'timestamp': pd.to_datetime([1,2,3,4,5], unit='D', origin='2022-01-01'),  # sample dates\n",
    "#     'symbol': ['BB','BB','BB','BB','BB'],  \n",
    "#     'close': [100,110,120,130,150],\n",
    "#     'ema50': [95,115,110,120,130],\n",
    "#     'pegAlert': [1,0,0,0,0]\n",
    "# })"
   ]
  },
  {
   "cell_type": "code",
   "execution_count": 33,
   "metadata": {},
   "outputs": [],
   "source": [
    "def calculate_cross_below_ema50(df):    \n",
    "    df['crossBelowEma50'] = 0  # Initialize the Entry column with 0\n",
    "\n",
    "    # Reset index to ensure consecutive indexing within each symbol group\n",
    "    df = df.reset_index(drop=True)\n",
    "\n",
    "    # Iterate over rows where alert is 1\n",
    "    for i, row in df[df['pegAlert'] == 1].iterrows():\n",
    "        # Define the 90-row window after the alert\n",
    "        end_index = min(i + 90, len(df))  # Ensure we don't go out of range\n",
    "        for j in range(i + 1, end_index):\n",
    "            # Check if 'close' is below 'ema50' within the 90-row window\n",
    "            if df.at[j, 'close'] < df.at[j, 'ema50']:\n",
    "                df.at[j, 'crossBelowEma50'] = 1  # Set 'Entry' to 1 in the row where condition is met\n",
    "                break  # Stop searching within the 90-row window once condition is satisfied\n",
    "    return df\n"
   ]
  },
  {
   "cell_type": "code",
   "execution_count": 34,
   "metadata": {},
   "outputs": [],
   "source": [
    "def calculate_entry(df):    \n",
    "    # Initialize the entryPos column with 0\n",
    "    df['entryPos'] = 0\n",
    "\n",
    "    # Reset index to ensure consecutive indexing within each symbol group\n",
    "    df = df.reset_index(drop=True)  \n",
    "\n",
    "    # Iterate over rows where 'crossBelowEma50' is 1\n",
    "    for i, row in df[df['crossBelowEma50'] == 1].iterrows():\n",
    "        # Define the 30-row window after the alert\n",
    "        end_index = min(i + 30, len(df))  # Ensure we don't go out of range\n",
    "        for j in range(i + 1, len(df)):\n",
    "            # Check if 'close' is above 'ema50' within the 30-row window\n",
    "            if df.at[j, 'close'] > df.at[j, 'ema50']:\n",
    "                # The immediate next row (j + 1) remains 0\n",
    "                delayed_index_2 = j + 1  # Check 2 rows after the condition is met\n",
    "                \n",
    "                # Check for the condition two rows after j\n",
    "                if delayed_index_2 < len(df) and df.at[delayed_index_2, 'close'] > df.at[delayed_index_2, 'ema50']:\n",
    "                    df.at[delayed_index_2, 'entryPos'] = 1  # Set entryPos to 1 for j + 2\n",
    "                \n",
    "                break  # Stop searching within the 30-row window once the first condition is satisfied\n",
    "    return df\n"
   ]
  },
  {
   "cell_type": "code",
   "execution_count": 35,
   "metadata": {},
   "outputs": [],
   "source": [
    "def calculate_cross_below_ema50_for_symbols(df, symbols):\n",
    "    # Initialize an empty list to hold DataFrames for each symbol\n",
    "    df_list = []\n",
    "\n",
    "    for symbol in symbols:\n",
    "        # Filter the DataFrame for the current symbol\n",
    "        df_symbol = df[df['symbol'] == symbol].copy()\n",
    "        \n",
    "        # Call the calculation function for the filtered symbol DataFrame\n",
    "        df_symbol = calculate_cross_below_ema50(df_symbol)\n",
    "        \n",
    "        # Append the processed DataFrame to the list\n",
    "        df_list.append(df_symbol)\n",
    "\n",
    "    # Concatenate all symbol DataFrames into one final DataFrame\n",
    "    df_final = pd.concat(df_list, ignore_index=True)\n",
    "    \n",
    "    return df_final"
   ]
  },
  {
   "cell_type": "code",
   "execution_count": 36,
   "metadata": {},
   "outputs": [
    {
     "name": "stdout",
     "output_type": "stream",
     "text": [
      "['AA' 'BB']\n"
     ]
    }
   ],
   "source": [
    "# List of symbols from dataframe\n",
    "symbols_list = df['symbol'].unique()\n",
    "print(symbols_list)"
   ]
  },
  {
   "cell_type": "code",
   "execution_count": 37,
   "metadata": {},
   "outputs": [
    {
     "name": "stdout",
     "output_type": "stream",
     "text": [
      "   timestamp symbol  close  ema50  pegAlert  trailingStop  crossBelowEma50\n",
      "0 2022-01-02     AA     10    9.0         1            11                0\n",
      "1 2022-01-03     AA      9   10.0         0            11                1\n",
      "2 2022-01-04     AA     11   10.5         0            12                0\n",
      "3 2022-01-05     AA     11   10.0         0            12                0\n",
      "4 2022-01-06     AA      9   10.0         0             8                0\n",
      "5 2022-01-07     BB    100   95.0         1           101                0\n",
      "6 2022-01-08     BB    110  115.0         0           111                1\n",
      "7 2022-01-09     BB    120  110.0         0           121                0\n",
      "8 2022-01-10     BB    125  120.0         0           126                0\n",
      "9 2022-01-11     BB    150  130.0         0           145                0\n"
     ]
    }
   ],
   "source": [
    "\n",
    "df = calculate_cross_below_ema50_for_symbols(df, symbols_list)\n",
    "print(df)"
   ]
  },
  {
   "cell_type": "code",
   "execution_count": 38,
   "metadata": {},
   "outputs": [],
   "source": [
    "def calculate_entry_for_symbols(df, symbols):\n",
    "    # Initialize an empty list to hold DataFrames for each symbol\n",
    "    df_list = []\n",
    "\n",
    "    for symbol in symbols:\n",
    "        # Filter the DataFrame for the current symbol\n",
    "        df_symbol = df[df['symbol'] == symbol].copy()\n",
    "        \n",
    "        # Call the calculation function for the filtered symbol DataFrame\n",
    "        df_symbol = calculate_entry(df_symbol)\n",
    "        \n",
    "        # Append the processed DataFrame to the list\n",
    "        df_list.append(df_symbol)\n",
    "\n",
    "    # Concatenate all symbol DataFrames into one final DataFrame\n",
    "    df_final = pd.concat(df_list, ignore_index=True)\n",
    "    \n",
    "    return df_final"
   ]
  },
  {
   "cell_type": "code",
   "execution_count": 39,
   "metadata": {},
   "outputs": [
    {
     "name": "stdout",
     "output_type": "stream",
     "text": [
      "   timestamp symbol  close  ema50  pegAlert  trailingStop  crossBelowEma50  \\\n",
      "0 2022-01-02     AA     10    9.0         1            11                0   \n",
      "1 2022-01-03     AA      9   10.0         0            11                1   \n",
      "2 2022-01-04     AA     11   10.5         0            12                0   \n",
      "3 2022-01-05     AA     11   10.0         0            12                0   \n",
      "4 2022-01-06     AA      9   10.0         0             8                0   \n",
      "5 2022-01-07     BB    100   95.0         1           101                0   \n",
      "6 2022-01-08     BB    110  115.0         0           111                1   \n",
      "7 2022-01-09     BB    120  110.0         0           121                0   \n",
      "8 2022-01-10     BB    125  120.0         0           126                0   \n",
      "9 2022-01-11     BB    150  130.0         0           145                0   \n",
      "\n",
      "   entryPos  \n",
      "0         0  \n",
      "1         0  \n",
      "2         0  \n",
      "3         1  \n",
      "4         0  \n",
      "5         0  \n",
      "6         0  \n",
      "7         0  \n",
      "8         1  \n",
      "9         0  \n"
     ]
    }
   ],
   "source": [
    "df = calculate_entry_for_symbols(df, symbols_list)\n",
    "print(df)"
   ]
  },
  {
   "cell_type": "code",
   "execution_count": 40,
   "metadata": {},
   "outputs": [],
   "source": [
    "def calculate_exit(df):    \n",
    "    df['exitPos'] = 0  # Initialize the Entry column with 0\n",
    "\n",
    "    # Reset index to ensure consecutive indexing within each symbol group\n",
    "    df = df.reset_index(drop=True)\n",
    "\n",
    "    # Iterate over rows where alert is 1\n",
    "    for i, row in df[df['entryPos'] == 1].iterrows():\n",
    "        # Define the max df range.\n",
    "        for j in range(i + 1, len(df)):\n",
    "            # Check if 'trailingStop' is higher than 'low' within dataframe.\n",
    "            if df.at[j, 'trailingStop'] >= df.at[j, 'low']:\n",
    "                df.at[j, 'exitPos'] = 1  # Set 'exitPos' to 1 in the row where condition is met\n",
    "                break  # Stop searching within the df once condition is satisfied\n",
    "    return df"
   ]
  },
  {
   "cell_type": "code",
   "execution_count": 41,
   "metadata": {},
   "outputs": [],
   "source": [
    "def calculate_exit_for_symbols(df, symbols):\n",
    "    # Initialize an empty list to hold DataFrames for each symbol\n",
    "    df_list = []\n",
    "\n",
    "    for symbol in symbols:\n",
    "        # Filter the DataFrame for the current symbol\n",
    "        df_symbol = df[df['symbol'] == symbol].copy()\n",
    "        \n",
    "        # Call the calculation function for the filtered symbol DataFrame\n",
    "        df_symbol = calculate_exit(df_symbol)\n",
    "        \n",
    "        # Append the processed DataFrame to the list\n",
    "        df_list.append(df_symbol)\n",
    "\n",
    "    # Concatenate all symbol DataFrames into one final DataFrame\n",
    "    df_final = pd.concat(df_list, ignore_index=True)\n",
    "    \n",
    "    return df_final"
   ]
  },
  {
   "cell_type": "code",
   "execution_count": 42,
   "metadata": {},
   "outputs": [
    {
     "name": "stdout",
     "output_type": "stream",
     "text": [
      "   timestamp symbol  close  ema50  pegAlert  trailingStop  crossBelowEma50  \\\n",
      "0 2022-01-02     AA     10    9.0         1            11                0   \n",
      "1 2022-01-03     AA      9   10.0         0            11                1   \n",
      "2 2022-01-04     AA     11   10.5         0            12                0   \n",
      "3 2022-01-05     AA     11   10.0         0            12                0   \n",
      "4 2022-01-06     AA      9   10.0         0             8                0   \n",
      "5 2022-01-07     BB    100   95.0         1           101                0   \n",
      "6 2022-01-08     BB    110  115.0         0           111                1   \n",
      "7 2022-01-09     BB    120  110.0         0           121                0   \n",
      "8 2022-01-10     BB    125  120.0         0           126                0   \n",
      "9 2022-01-11     BB    150  130.0         0           145                0   \n",
      "\n",
      "   entryPos  exitPos  \n",
      "0         0        0  \n",
      "1         0        0  \n",
      "2         0        0  \n",
      "3         1        0  \n",
      "4         0        1  \n",
      "5         0        0  \n",
      "6         0        0  \n",
      "7         0        0  \n",
      "8         1        0  \n",
      "9         0        1  \n"
     ]
    }
   ],
   "source": [
    "df = calculate_exit_for_symbols(df, symbols_list)\n",
    "print(df)"
   ]
  }
 ],
 "metadata": {
  "kernelspec": {
   "display_name": "Python 3",
   "language": "python",
   "name": "python3"
  },
  "language_info": {
   "codemirror_mode": {
    "name": "ipython",
    "version": 3
   },
   "file_extension": ".py",
   "mimetype": "text/x-python",
   "name": "python",
   "nbconvert_exporter": "python",
   "pygments_lexer": "ipython3",
   "version": "3.9.11"
  }
 },
 "nbformat": 4,
 "nbformat_minor": 2
}
