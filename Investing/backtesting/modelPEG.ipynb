{
 "cells": [
  {
   "cell_type": "code",
   "execution_count": 19,
   "metadata": {},
   "outputs": [],
   "source": [
    "import requests\n",
    "import pandas as pd\n",
    "# from datetime import datetime, timedelta, date\n",
    "from datetime import datetime\n",
    "import time\n",
    "from polygon import RESTClient\n",
    "import logging\n",
    "import signal\n",
    "import sys\n",
    "import pickle\n",
    "import lz4.frame  # type: ignore\n",
    "import concurrent.futures\n",
    "import os\n",
    "import pandas as pd\n",
    "import numpy as np\n",
    "import glob\n",
    "import nbimporter\n",
    "import gzip"
   ]
  },
  {
   "cell_type": "code",
   "execution_count": 20,
   "metadata": {},
   "outputs": [],
   "source": [
    "# Function to read pickle\n",
    "\n",
    "def read_pickle(file_path):\n",
    "    # Load the DataFrame from the compressed pickle file\n",
    "    try:\n",
    "        df = pd.read_pickle(file_path, compression='gzip')\n",
    "        print(\"File loaded successfully!\")\n",
    "        # print(df.head())  # Display the first few rows\n",
    "    except Exception as e:\n",
    "        print(f\"Error loading file: {e}\")\n",
    "    return df\n"
   ]
  },
  {
   "cell_type": "code",
   "execution_count": 21,
   "metadata": {},
   "outputs": [],
   "source": [
    "# Check for missing values in the dataset\n",
    "# missing_data = df.isnull().sum()\n",
    "# print(missing_data)"
   ]
  },
  {
   "cell_type": "code",
   "execution_count": 22,
   "metadata": {},
   "outputs": [],
   "source": [
    "# Check for duplicates\n",
    "# duplicates = df.duplicated().sum()\n",
    "# print(f\"Number of duplicate rows: {duplicates}\")"
   ]
  },
  {
   "cell_type": "code",
   "execution_count": 23,
   "metadata": {},
   "outputs": [],
   "source": [
    "# Get summary statistics\n",
    "# print(df.describe())"
   ]
  },
  {
   "cell_type": "code",
   "execution_count": 24,
   "metadata": {},
   "outputs": [],
   "source": [
    "# List all unique symbols in the 'symbol' column\n",
    "# unique_symbols = df['symbol'].unique()\n",
    "# print(unique_symbols)"
   ]
  },
  {
   "cell_type": "code",
   "execution_count": 25,
   "metadata": {},
   "outputs": [],
   "source": [
    "# Function to filter date range and symbols that are alerted by PEG model.\n",
    "def model_peg_list(data):\n",
    "    # symbol_filter = 'ABUS'  # Replace with the symbol you want to filter\n",
    "    date_filter = (data['timestamp'] >= '2022-01-01') & (data['timestamp'] <= '2024-09-30')\n",
    "    pegAlert = (data['pegAlert']==1)\n",
    "\n",
    "     # Apply filters and select unique values from the 'symbol' column\n",
    "    modelPEGlist = data[date_filter & pegAlert]['symbol'].unique()\n",
    "    \n",
    "    return modelPEGlist"
   ]
  },
  {
   "cell_type": "code",
   "execution_count": 26,
   "metadata": {},
   "outputs": [],
   "source": [
    "# Filter and sort the original DataFrame using the list of unique symbols\n",
    "def filter_data_by_symbols():\n",
    "    # Define file path\n",
    "    file_path = \"C:\\\\Users\\\\SamuliMustonen\\\\Documents\\\\Ready Solutions\\\\Docs\\\\StockTrading\\\\Data\\\\rawComplete\\\\all_raw_data_2022-01-01_to_2024-09-30.pickle.gz\"\n",
    "\n",
    "    # Variable for file reading function and use the dataframe\n",
    "    df = read_pickle(file_path)\n",
    "\n",
    "    # Run model peg list to create symbol list\n",
    "    symbols_list = model_peg_list(df)\n",
    "    \n",
    "    # Filter the DataFrame to include only rows where 'symbol' is in the symbols_list\n",
    "    filtered_df = df[df['symbol'].isin(symbols_list)]\n",
    "\n",
    "    # Sort the filtered DataFrame by 'symbol' and 'timestamp' (or another column if needed)\n",
    "    sorted_df = filtered_df.sort_values(by=['timestamp'])\n",
    "\n",
    "    return sorted_df"
   ]
  },
  {
   "cell_type": "code",
   "execution_count": 27,
   "metadata": {},
   "outputs": [],
   "source": [
    "# # Define file path\n",
    "# file_path = \"C:\\\\Users\\\\SamuliMustonen\\\\Documents\\\\Ready Solutions\\\\Docs\\\\StockTrading\\\\Data\\\\rawComplete\\\\all_raw_data_2022-01-01_to_2024-09-30.pickle.gz\"\n",
    "# # Variable for file reading function\n",
    "# data = read_pickle(file_path)\n",
    "# # Convert to DataFrame\n",
    "# print(data.head())"
   ]
  },
  {
   "cell_type": "code",
   "execution_count": 28,
   "metadata": {},
   "outputs": [
    {
     "name": "stdout",
     "output_type": "stream",
     "text": [
      "File loaded successfully!\n"
     ]
    }
   ],
   "source": [
    "# Main function to run the process\n",
    "def main():\n",
    "    \n",
    "    df = filter_data_by_symbols() # Data filtered by unique symbols\n",
    "    # if sorted_df is not None:\n",
    "    #     print(sorted_df.head())\n",
    "    return df\n",
    "\n",
    "if __name__ == \"__main__\":\n",
    "    main()"
   ]
  },
  {
   "cell_type": "code",
   "execution_count": 29,
   "metadata": {},
   "outputs": [
    {
     "name": "stdout",
     "output_type": "stream",
     "text": [
      "File loaded successfully!\n",
      "       symbol  close   open   high    low   volume   timestamp  volatility  \\\n",
      "318      AAOI   5.27   5.20   5.30   5.08   478600  2022-01-03         NaN   \n",
      "507822   PACB  20.90  20.50  21.01  19.51  2428600  2022-01-03         NaN   \n",
      "505755    OSW  10.50  10.08  10.73  10.08   252000  2022-01-03         NaN   \n",
      "505066   OSPN  17.23  16.99  17.26  16.74   126700  2022-01-03         NaN   \n",
      "503688   ORLA   3.88   3.81   3.88   3.64    43300  2022-01-03         NaN   \n",
      "...       ...    ...    ...    ...    ...      ...         ...         ...   \n",
      "173825   CVAC   2.94   3.00   3.11   2.93   513300  2024-09-30      0.0650   \n",
      "189799    DHC   4.19   3.90   4.24   3.90  4139900  2024-09-30      0.0463   \n",
      "149225   CMPR  81.92  81.61  82.66  81.00   157800  2024-09-30      0.0338   \n",
      "523177    PFC  23.48  23.09  23.74  23.09   108600  2024-09-30      0.0284   \n",
      "742019    ZUO   8.62   8.63   8.77   8.57   945200  2024-09-30      0.0257   \n",
      "\n",
      "        trailingStop  exceptionalCandleSize  ema20  ema50  openHigher  \\\n",
      "318              NaN                      0   5.27   5.27           0   \n",
      "507822           NaN                      0  20.90  20.90           0   \n",
      "505755           NaN                      0  10.50  10.50           0   \n",
      "505066           NaN                      0  17.23  17.23           0   \n",
      "503688           NaN                      0   3.88   3.88           0   \n",
      "...              ...                    ...    ...    ...         ...   \n",
      "173825          2.71                      0   3.12   3.22           0   \n",
      "189799          3.85                      1   3.67   3.44           1   \n",
      "149225         77.06                      0  85.16  87.03           0   \n",
      "523177         22.39                      0  23.86  23.63           0   \n",
      "742019          8.32                      0   8.69   8.82           0   \n",
      "\n",
      "        averageVolume  strongVolume  strongVolume6MoPrior  accVolume  uptrend  \\\n",
      "318               NaN             0                     1          0        0   \n",
      "507822            NaN             0                     1          0        0   \n",
      "505755            NaN             0                     1          0        0   \n",
      "505066            NaN             0                     1          0        0   \n",
      "503688            NaN             0                     0          0        0   \n",
      "...               ...           ...                   ...        ...      ...   \n",
      "173825     1013082.94             0                     1          0        0   \n",
      "189799      962031.41             1                     1          1        1   \n",
      "149225      149322.37             0                     1          0        0   \n",
      "523177      170567.59             0                     1          0        0   \n",
      "742019     1214948.67             0                     1          0        0   \n",
      "\n",
      "        closeHigh  pegAlert  \n",
      "318             0         0  \n",
      "507822          0         0  \n",
      "505755          0         0  \n",
      "505066          0         0  \n",
      "503688          0         0  \n",
      "...           ...       ...  \n",
      "173825          0         0  \n",
      "189799          1         1  \n",
      "149225          0         0  \n",
      "523177          0         0  \n",
      "742019          0         0  \n",
      "\n",
      "[301034 rows x 20 columns]\n"
     ]
    }
   ],
   "source": [
    "print(main())"
   ]
  },
  {
   "cell_type": "code",
   "execution_count": 30,
   "metadata": {},
   "outputs": [],
   "source": [
    "# Filter for a specific symbol and date range within 2023\n",
    "# symbol_filter = 'AGL'  # Replace with the symbol you want to filter\n",
    "# date_filter = (df['timestamp'] >= '2023-01-01') & (df['timestamp'] <= '2023-12-31')\n",
    "# openHigher = (df['openHigher'] == 1)\n",
    "# accVolume = (df['accVolume']==1)\n",
    "# uptrend = (df['uptrend']==1)\n",
    "# excCandle = (df['exceptionalCandleSize']==1)\n",
    "# closeHigh = (df['closeHigh']==1)\n",
    "\n",
    "# # Apply all filters at once\n",
    "# filtered_df = df[\n",
    "#     # (df['symbol'] == symbol_filter) & \n",
    "#     date_filter & \n",
    "#     openHigher & \n",
    "#     accVolume & \n",
    "#     uptrend & \n",
    "#     excCandle &\n",
    "#     closeHigh\n",
    "# ]\n",
    "\n",
    "# # View the filtered DataFrame\n",
    "# print(filtered_df)"
   ]
  },
  {
   "cell_type": "code",
   "execution_count": 31,
   "metadata": {},
   "outputs": [
    {
     "name": "stdout",
     "output_type": "stream",
     "text": [
      "File loaded successfully!\n"
     ]
    }
   ],
   "source": [
    "df = main()"
   ]
  },
  {
   "cell_type": "code",
   "execution_count": 32,
   "metadata": {},
   "outputs": [
    {
     "name": "stdout",
     "output_type": "stream",
     "text": [
      "File saved to: C:\\Users\\SamuliMustonen\\Documents\\Ready Solutions\\Docs\\StockTrading\\Data\\modelPEG\\model_PEG_alert_list_2022-01-01_to_2024-09-30_20241026_181352.csv\n"
     ]
    }
   ],
   "source": [
    "# Save the alert list to csv.\n",
    "start_date = \"2022-01-01\"  \n",
    "end_date = \"2024-09-30\"    \n",
    "timestamp = datetime.now().strftime('%Y%m%d_%H%M%S')  # current timestamp\n",
    "\n",
    "save_path = \"C:\\\\Users\\\\SamuliMustonen\\\\Documents\\\\Ready Solutions\\\\Docs\\\\StockTrading\\\\Data\\\\modelPEG\"\n",
    "file_name = f\"model_PEG_alert_list_{start_date}_to_{end_date}_{timestamp}.csv\"\n",
    "full_path = f\"{save_path}\\\\{file_name}\"\n",
    "\n",
    "# Save the DataFrame to CSV\n",
    "df.to_csv(full_path, index=False)\n",
    "\n",
    "print(f\"File saved to: {full_path}\")"
   ]
  }
 ],
 "metadata": {
  "kernelspec": {
   "display_name": "Python 3",
   "language": "python",
   "name": "python3"
  },
  "language_info": {
   "codemirror_mode": {
    "name": "ipython",
    "version": 3
   },
   "file_extension": ".py",
   "mimetype": "text/x-python",
   "name": "python",
   "nbconvert_exporter": "python",
   "pygments_lexer": "ipython3",
   "version": "3.9.11"
  }
 },
 "nbformat": 4,
 "nbformat_minor": 2
}
