{
 "cells": [
  {
   "cell_type": "markdown",
   "metadata": {},
   "source": [
    "## Adding parameters to the data model\n",
    "**ema20** = exponential moving average 20 days.\n",
    "**ema50** = exponential moving average 50 days.\n",
    "**openHigher** = If Open > (1,01 * Previous day Close) then 1 else 0.\n",
    "**strongClose** = function=(High + Low) / 2. If Close > 'function' then 1 else 0. Maybe not necessary. Lets try model with and without the strongClose parameter.\n",
    "**averageVolume** = Average volume from past 200 days. 200 simple moving average for volume.\n",
    "**strongVolume** = If Volume > (2 * averageVolume) then 1 else 0.\n",
    "**strongVolume6MoPrior** = If strongVolume is equal to 1 more than 3 times in the past 126 days then 1 else 0.\n",
    "**strongVolumeAfterFiling** = If strongVolume is equal to 1 more 2 times in the following 5 days after financialRelease = 1 then 1 else 0.\n",
    "**accVolume** = If strongVolume = 1 and strongVolume6MoPrior = 1 and strongVolumeAfterFiling = 1 then 1 else 0.\n",
    "**uptrend** = If ema50 > (ema50 50 days prior) then 1 else 0."
   ]
  },
  {
   "cell_type": "code",
   "execution_count": 85,
   "metadata": {},
   "outputs": [],
   "source": [
    "import requests\n",
    "import pandas as pd\n",
    "# from datetime import datetime, timedelta, date\n",
    "import datetime\n",
    "import time\n",
    "from polygon import RESTClient\n",
    "import logging\n",
    "import signal\n",
    "import sys\n",
    "import pickle\n",
    "import lz4.frame  # type: ignore\n",
    "import concurrent.futures\n",
    "import os\n",
    "import pandas as pd\n",
    "import numpy as np\n",
    "import glob\n",
    "import nbimporter\n",
    "from readRawAggs import main"
   ]
  },
  {
   "cell_type": "code",
   "execution_count": 86,
   "metadata": {},
   "outputs": [],
   "source": [
    "# # Define the path to your existing CSV file\n",
    "# csv_file_path = r\"C:\\Users\\SamuliMustonen\\Documents\\Ready Solutions\\Docs\\StockTrading\\Data\\ntnx_data_raw.csv\"\n",
    "# # Load the CSV file into a DataFrame\n",
    "# df = pd.read_csv(csv_file_path, delimiter=';', header=0)"
   ]
  },
  {
   "cell_type": "code",
   "execution_count": 87,
   "metadata": {},
   "outputs": [],
   "source": [
    "# Function to calculate EMA\n",
    "def calculate_ema(data, window):\n",
    "    \"\"\"Calculate the Exponential Moving Average (EMA) for a given window.\"\"\"\n",
    "    # Ensure the 'close' column is of type float\n",
    "    data['close'] = data['close'].astype(float)\n",
    "    # Calculate EMA using ewm() and handle insufficient data gracefully\n",
    "    ema = data.groupby('symbol')['close'].ewm(span=window, adjust=False).mean()\n",
    "    # Handle insufficient data gracefully\n",
    "    ema = ema.reset_index(level=0, drop=True)  # Reset index to align with original DataFrame\n",
    "    # Replace initial values with NaN for insufficient data\n",
    "    if len(data) < window:\n",
    "        ema.iloc[:window] = None  # Set initial window values to None (NaN)\n",
    "    \n",
    "    return ema"
   ]
  },
  {
   "cell_type": "code",
   "execution_count": 88,
   "metadata": {},
   "outputs": [],
   "source": [
    "# Function to calculate openHigher.\n",
    "def calculate_open_higher(data):\n",
    "    \"\"\"Calculate if price opens higher than previous day's close.\"\"\"\n",
    "    multiplier = 1.01\n",
    "\n",
    "    # Ensure the 'open' and 'close' columns are of type float\n",
    "    data['open'] = data['open'].astype(float)\n",
    "    data['close'] = data['close'].astype(float)\n",
    "\n",
    "    # Shift the 'close' column by one day for each symbol to get the previous day's close\n",
    "    data['prev_close'] = data.groupby('symbol')['close'].shift(1)\n",
    "\n",
    "    # Compare if 'open' price is greater than 1.01 * previous day's close\n",
    "    data['openHigher'] = (data['open'] > (multiplier * data['prev_close'])).astype(int)\n",
    "\n",
    "    # Drop the 'prev_close' column if no longer needed\n",
    "    data = data.drop(columns=['prev_close'])\n",
    "\n",
    "    return data['openHigher']"
   ]
  },
  {
   "cell_type": "code",
   "execution_count": 89,
   "metadata": {},
   "outputs": [],
   "source": [
    "# Function to calculate average volume\n",
    "def calculate_avg_volume(data, window):\n",
    "    \"\"\"Calculate the Average Volume for a given window.\"\"\"\n",
    "    # Ensure the 'volume' column is of type float\n",
    "    data['volume'] = data['volume'].astype(float)\n",
    "    # Calculate average volume and handle insufficient data gracefully\n",
    "    averageVolume = data.groupby('symbol')['volume'].transform(lambda x: x.rolling(window).mean())\n",
    "    # Handle insufficient data gracefully\n",
    "    averageVolume = averageVolume.reset_index(level=0, drop=True)  # Reset index to align with original DataFrame\n",
    "    # Replace initial values with NaN for insufficient data\n",
    "    if len(data) < window:\n",
    "        averageVolume[:window] = None  # Set initial window values to None (NaN)\n",
    "    \n",
    "    return averageVolume"
   ]
  },
  {
   "cell_type": "code",
   "execution_count": 90,
   "metadata": {},
   "outputs": [],
   "source": [
    "# Function to calculate strong volume\n",
    "def calculate_strong_volume(data):\n",
    "    \"\"\"Calculate the Strong Volume.\"\"\"\n",
    "    \n",
    "    # Ensure the 'volume' and 'averageVolume' columns are of type float\n",
    "    data['volume'] = data['volume'].astype(float)\n",
    "    data['averageVolume'] = data['averageVolume'].astype(float)\n",
    "    \n",
    "    # Calculate strong volume: volume greater than 2 times averageVolume\n",
    "    strongVolume = (data['volume'] > 2 * data['averageVolume']).astype(int)\n",
    "    \n",
    "    # Replace initial values with NaN for insufficient data\n",
    "    if len(data) < 100:\n",
    "        strongVolume[:100] = None  # Set initial values to None (NaN)\n",
    "    \n",
    "    return strongVolume"
   ]
  },
  {
   "cell_type": "code",
   "execution_count": 91,
   "metadata": {},
   "outputs": [],
   "source": [
    "# Function to calculate strong volume 6 months prior of openHigher\n",
    "def calculate_strong_volume_prior(data, window):\n",
    "    \"\"\"Calculate the Strong Volume 6 Months Prior.\"\"\"\n",
    "    \n",
    "    # Ensure that 'strongVolume' is of type int to handle NaNs\n",
    "    data['strongVolume'] = data['strongVolume'].astype(int)\n",
    "\n",
    "    # Calculate rolling sum for the strong volume and shift by one period\n",
    "    strongVolume6MoPrior = data.groupby('symbol')['strongVolume'].rolling(window=window, min_periods=1).sum().shift(1)\n",
    "    \n",
    "    # Replace initial values with NaN for insufficient data\n",
    "    strongVolume6MoPrior = strongVolume6MoPrior.reset_index(level=0, drop=True)  # Align with original DataFrame\n",
    "\n",
    "    return strongVolume6MoPrior"
   ]
  },
  {
   "cell_type": "code",
   "execution_count": 92,
   "metadata": {},
   "outputs": [],
   "source": [
    "# Function to calculate strong volume after openHigher\n",
    "# def calculate_strong_volume_after(data):\n",
    "#     \"\"\"Calculate the Strong Volume After Open Higher.\"\"\"\n",
    "    \n",
    "#     # Ensure that 'strongVolume' and 'openHigher' are of type int to handle NaNs\n",
    "#     data['strongVolume'] = data['strongVolume'].astype(int)\n",
    "#     data['openHigher'] = data['openHigher'].astype(int)\n",
    "    \n",
    "#     # Initialize the new column with default values\n",
    "#     data['strongVolumeAfterOpenHigher'] = 0\n",
    "\n",
    "#     # Loop through each group of 'symbol'\n",
    "#     for symbol, group in data.groupby('symbol'):\n",
    "#         # Create a temporary column for strongVolume counts\n",
    "#         group['strong_count'] = group['strongVolume'].rolling(window=4).sum().shift(-4)\n",
    "        \n",
    "#         # Check for openHigher and set newColumn\n",
    "#         for index in group.index:\n",
    "#             if group.at[index, 'openHigher'] == 1 and group.at[index, 'strong_count'] >= 2:\n",
    "#                 data.at[index, 'strongVolumeAfterOpenHigher'] = 1\n",
    "    \n",
    "#     return data"
   ]
  },
  {
   "cell_type": "code",
   "execution_count": 93,
   "metadata": {},
   "outputs": [],
   "source": [
    "# Function to calculate accumulating volume that includes all previous volume functions\n",
    "def calculate_accumulating_volume(data):\n",
    "    \"\"\"Calculate the accumulating volume.\"\"\"\n",
    "    # Ensure that 'strongVolume' and 'openHigher' are of type int to handle NaNs\n",
    "    data['strongVolume'] = data['strongVolume'].fillna(0).astype(int)\n",
    "    data['strongVolume6MoPrior'] = data['strongVolume6MoPrior'].fillna(0).astype(int)\n",
    "    accVolume = ((data['strongVolume'] == 1) & (data['strongVolume6MoPrior'] == 1)).astype(int)\n",
    "    \n",
    "    return accVolume"
   ]
  },
  {
   "cell_type": "code",
   "execution_count": 94,
   "metadata": {},
   "outputs": [],
   "source": [
    "# Function to calculate uptrend from ema50.\n",
    "def calculate_uptrend(data):\n",
    "    \"\"\"Calculate the uptrend based on ema50.\"\"\"\n",
    "    # Fill NaN values in the 'ema50' column\n",
    "    data['ema50'] = data['ema50'].fillna(0).astype(float)\n",
    "    \n",
    "    # Calculate uptrend using transform to maintain index alignment\n",
    "    uptrend = data.groupby('symbol')['ema50'].transform(lambda x: (x > x.shift(22)).astype(int))\n",
    "    \n",
    "    return uptrend"
   ]
  },
  {
   "cell_type": "code",
   "execution_count": 95,
   "metadata": {},
   "outputs": [],
   "source": [
    "# Explicitly format columns\n",
    "# df[['close', 'open', 'high', 'low', 'volume']] = df[['close', 'open', 'high', 'low', 'volume']].astype('float64')\n",
    "# df[['symbol', 'timestamp']] = df[['symbol', 'timestamp']].astype('object')"
   ]
  },
  {
   "cell_type": "code",
   "execution_count": 96,
   "metadata": {},
   "outputs": [],
   "source": [
    "# Use main() from readRawAggs\n",
    "df = main()\n",
    "#Sort the data by date\n",
    "df = df.sort_values(by=['symbol', 'timestamp'])\n",
    "\n",
    "# Calculate EMA20 and EMA50.\n",
    "df['ema20'] = calculate_ema(df, 20)\n",
    "df['ema50'] = calculate_ema(df, 50)\n",
    "\n",
    "# Calculate when stock opens higher than previous day close.\n",
    "df['openHigher'] = calculate_open_higher(df)\n",
    "\n",
    "# Calculate average volume from past 100 days.\n",
    "df['averageVolume'] = calculate_avg_volume(df, 100)\n",
    "\n",
    "# Calculate strong volume. 1 if over 2x average volume.\n",
    "df['strongVolume'] = calculate_strong_volume(df)\n",
    "\n",
    "# Calculate strong volume 6 months prior opening higher. 126 trading days is 6 months.\n",
    "df['strongVolume6MoPrior'] = calculate_strong_volume_prior(df, 126)\n",
    "\n",
    "# Calculate strong volume after opening higher. Two strong volume days within 5 day period.\n",
    "# df['strongVolumeAfterOpenHigher'] = calculate_strong_volume_after(df)\n",
    "\n",
    "# Calculate if all strong volume indicators give a positive singal.\n",
    "df['accVolume'] = calculate_accumulating_volume(df)\n",
    "\n",
    "# Calculate if EMA50 has an uptrend in the past month.\n",
    "df['uptrend'] = calculate_uptrend(df)"
   ]
  },
  {
   "cell_type": "code",
   "execution_count": null,
   "metadata": {},
   "outputs": [],
   "source": [
    "print(df.head())"
   ]
  },
  {
   "cell_type": "code",
   "execution_count": 100,
   "metadata": {},
   "outputs": [],
   "source": [
    "# Define the path where the files will be saved\n",
    "save_path = \"C:\\\\Users\\\\SamuliMustonen\\\\Documents\\\\Ready Solutions\\\\Docs\\\\StockTrading\\\\Data\\\\rawComplete\"\n",
    "\n",
    "# Ensure the save directory exists\n",
    "os.makedirs(save_path, exist_ok=True)\n",
    "\n",
    "# Define your date range for the filename\n",
    "start_date = \"2022-01-01\"\n",
    "end_date = \"2024-09-30\"\n",
    "\n",
    "# Save the data to a compressed .pickle.lz4 file \n",
    "filename = os.path.join(save_path, f\"all_raw_data_{start_date}_to_{end_date}.pickle.gz\")\n",
    "\n",
    "try:\n",
    "    # Save the DataFrame using pandas with lz4 compression\n",
    "    df.to_pickle(filename, compression='gzip')\n",
    "    logging.info(f\"Saved to {filename}\")\n",
    "except Exception as e:\n",
    "    logging.error(f\"Serialization Error: {e}\")"
   ]
  }
 ],
 "metadata": {
  "kernelspec": {
   "display_name": "Python 3",
   "language": "python",
   "name": "python3"
  },
  "language_info": {
   "codemirror_mode": {
    "name": "ipython",
    "version": 3
   },
   "file_extension": ".py",
   "mimetype": "text/x-python",
   "name": "python",
   "nbconvert_exporter": "python",
   "pygments_lexer": "ipython3",
   "version": "3.9.11"
  }
 },
 "nbformat": 4,
 "nbformat_minor": 2
}
