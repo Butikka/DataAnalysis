{
 "cells": [
  {
   "cell_type": "markdown",
   "metadata": {},
   "source": [
    "## Adding parameters to the data model\n",
    "**exceptionalCandleSize** = Candle size as calculated (high-low). If the candle size is 2 standard deviations larger than average candle size then 1 else 0.\n",
    "**ema20** = exponential moving average 20 days.\n",
    "**ema50** = exponential moving average 50 days.\n",
    "**openHigher** = The Gap-Up indicator: day opens 5% higher than perevious close. If Open > (1,05 * Previous day Close) then 1 else 0.\n",
    "**averageVolume** = Average volume from past 100 market-days.\n",
    "**strongVolume** = If Volume > (2 * averageVolume) then 1 else 0.\n",
    "**strongVolume6MoPrior** = If strongVolume is equal to 1 more than 3 times in the past 100 market-days (5-6 months) then 1 else 0.\n",
    "**accVolume** = If strongVolume = 1 and strongVolume6MoPrior = 1 then 1 else 0.\n",
    "**uptrend** = The stock is uptrending in the past 5 market-days. If ema50 >= (ema50 5 market-days prior) then 1 else 0.\n",
    "**closeHigh** = The close is higher than the open, thus producing a green candle."
   ]
  },
  {
   "cell_type": "code",
   "execution_count": 1,
   "metadata": {},
   "outputs": [],
   "source": [
    "import requests\n",
    "import pandas as pd\n",
    "# from datetime import datetime, timedelta, date\n",
    "import datetime\n",
    "import time\n",
    "from polygon import RESTClient\n",
    "import logging\n",
    "import signal\n",
    "import sys\n",
    "import pickle\n",
    "import lz4.frame  # type: ignore\n",
    "import concurrent.futures\n",
    "import os\n",
    "import pandas as pd\n",
    "import numpy as np\n",
    "import glob\n",
    "import nbimporter\n",
    "from readRawAggs import main"
   ]
  },
  {
   "cell_type": "code",
   "execution_count": 2,
   "metadata": {},
   "outputs": [],
   "source": [
    "# # Define the path to your existing CSV file\n",
    "# csv_file_path = r\"C:\\Users\\SamuliMustonen\\Documents\\Ready Solutions\\Docs\\StockTrading\\Data\\ntnx_data_raw.csv\"\n",
    "# # Load the CSV file into a DataFrame\n",
    "# df = pd.read_csv(csv_file_path, delimiter=';', header=0)"
   ]
  },
  {
   "cell_type": "code",
   "execution_count": 3,
   "metadata": {},
   "outputs": [],
   "source": [
    "# Function to calculate EMA\n",
    "def calculate_ema(data, window):\n",
    "    \"\"\"Calculate the Exponential Moving Average (EMA) for a given window.\"\"\"\n",
    "    # Ensure the 'close' column is of type float\n",
    "    data['close'] = data['close'].astype(float)\n",
    "    # Calculate EMA using ewm() and handle insufficient data gracefully\n",
    "    ema = data.groupby('symbol')['close'].ewm(span=window, adjust=False).mean()\n",
    "    # Handle insufficient data gracefully\n",
    "    ema = ema.reset_index(level=0, drop=True)  # Reset index to align with original DataFrame\n",
    "    # Replace initial values with NaN for insufficient data\n",
    "    if len(data) < window:\n",
    "        ema.iloc[:window] = None  # Set initial window values to None (NaN)\n",
    "    \n",
    "    return ema"
   ]
  },
  {
   "cell_type": "code",
   "execution_count": 4,
   "metadata": {},
   "outputs": [],
   "source": [
    "# Function to calculate high-low\n",
    "def calculate_candle_size(data):\n",
    "    \"\"\"Calculate high - low to determine candle size.\"\"\"\n",
    "    # Ensure columns are type float\n",
    "    data['high'] = data['high'].astype(float)\n",
    "    data['low'] = data['low'].astype(float)\n",
    "    # Calculate new column high - low\n",
    "    candleSize = data['high'] - data['low']\n",
    "    \n",
    "    return candleSize"
   ]
  },
  {
   "cell_type": "code",
   "execution_count": 5,
   "metadata": {},
   "outputs": [],
   "source": [
    "def calculate_avg_candle_size(data, window):\n",
    "    \"\"\"Calculate the average high-low for a given window.\"\"\"\n",
    "    # Ensure the column is of type float\n",
    "    data['candleSize'] = data['candleSize'].astype(float)\n",
    "    # Calculate average candle size and handle insufficient data gracefully\n",
    "    avgCandleSize = data.groupby('symbol')['candleSize'].transform(lambda x: x.rolling(window).mean())\n",
    "    # Handle insufficient data gracefully\n",
    "    avgCandleSize = avgCandleSize.reset_index(level=0, drop=True)  # Reset index to align with original DataFrame\n",
    "    # Replace initial values with NaN for insufficient data\n",
    "    if len(data) < window:\n",
    "        avgCandleSize[:window] = None  # Set initial window values to None (NaN)\n",
    "    \n",
    "    return avgCandleSize"
   ]
  },
  {
   "cell_type": "code",
   "execution_count": 6,
   "metadata": {},
   "outputs": [],
   "source": [
    "# Function to calculate strong volume\n",
    "def calculate_volatility(data):\n",
    "    \"\"\"Calculate the volatility for ATR.\"\"\"\n",
    "    \n",
    "    # Ensure the 'volume' and 'averageVolume' columns are of type float\n",
    "    data['ma14CandleSize'] = data['ma14CandleSize'].astype(float)\n",
    "    data['close'] = data['close'].astype(float)\n",
    "    \n",
    "    # Calculate strong volume: volume greater than 2 times averageVolume\n",
    "    volatility = (data['ma14CandleSize'] / data['close']).astype(float)\n",
    "    \n",
    "    # Replace initial values with NaN for insufficient data\n",
    "    if len(data) < 14:\n",
    "        volatility[:14] = None  # Set initial values to None (NaN)\n",
    "    \n",
    "    return volatility"
   ]
  },
  {
   "cell_type": "code",
   "execution_count": 7,
   "metadata": {},
   "outputs": [],
   "source": [
    "def calculate_std_dev_candle_size(data, window):\n",
    "    \"\"\"Calculate the standard deviation of candle size for each symbol.\"\"\"\n",
    "    # Group by 'symbol' and calculate standard deviation of candleSize column\n",
    "    stdDevCandleSize = data.groupby('symbol')['candleSize'].transform(lambda x: x.rolling(window).std())\n",
    "    # Handle insufficient data gracefully\n",
    "    stdDevCandleSize = stdDevCandleSize.reset_index(level=0, drop=True)\n",
    "    if len(data) < window:\n",
    "        stdDevCandleSize[:window] = None  # Set initial window values to None (NaN)\n",
    "    \n",
    "    return stdDevCandleSize"
   ]
  },
  {
   "cell_type": "code",
   "execution_count": 8,
   "metadata": {},
   "outputs": [],
   "source": [
    "def calculate_exceptional_candle_size(data):\n",
    "    \"\"\"Calculate if candleSize is 2 standard deviations higher than avgCandleSize.\"\"\"\n",
    "    # Group by 'symbol' and calculate exceptional candle size\n",
    "    exceptionalCandleSize = (data['candleSize'] >= (data['ma100CandleSize'] + 2 * data['stdDevCandleSize'])).astype(int)\n",
    "    \n",
    "    return exceptionalCandleSize"
   ]
  },
  {
   "cell_type": "code",
   "execution_count": 9,
   "metadata": {},
   "outputs": [],
   "source": [
    "# Function to calculate openHigher.\n",
    "def calculate_open_higher(data):\n",
    "    \"\"\"Calculate if price opens higher than previous day's close.\"\"\"\n",
    "    multiplier = 1.03\n",
    "\n",
    "    # Ensure the 'open' and 'close' columns are of type float\n",
    "    data['open'] = data['open'].astype(float)\n",
    "    data['close'] = data['close'].astype(float)\n",
    "\n",
    "    # Shift the 'close' column by one day for each symbol to get the previous day's close\n",
    "    data['prev_close'] = data.groupby('symbol')['close'].shift(1)\n",
    "\n",
    "    # Compare if 'open' price is greater than 1.01 * previous day's close\n",
    "    data['openHigher'] = (data['open'] > (multiplier * data['prev_close'])).astype(int)\n",
    "\n",
    "    # Drop the 'prev_close' column if no longer needed\n",
    "    data = data.drop(columns=['prev_close'])\n",
    "\n",
    "    return data['openHigher']"
   ]
  },
  {
   "cell_type": "code",
   "execution_count": 10,
   "metadata": {},
   "outputs": [],
   "source": [
    "# Function to calculate average volume\n",
    "def calculate_avg_volume(data, window):\n",
    "    \"\"\"Calculate the Average Volume for a given window.\"\"\"\n",
    "    # Ensure the 'volume' column is of type float\n",
    "    data['volume'] = data['volume'].astype(float)\n",
    "    # Calculate average volume and handle insufficient data gracefully\n",
    "    averageVolume = data.groupby('symbol')['volume'].transform(lambda x: x.rolling(window).mean())\n",
    "    # Handle insufficient data gracefully\n",
    "    averageVolume = averageVolume.reset_index(level=0, drop=True)  # Reset index to align with original DataFrame\n",
    "    # Replace initial values with NaN for insufficient data\n",
    "    if len(data) < window:\n",
    "        averageVolume[:window] = None  # Set initial window values to None (NaN)\n",
    "    \n",
    "    return averageVolume"
   ]
  },
  {
   "cell_type": "code",
   "execution_count": 11,
   "metadata": {},
   "outputs": [],
   "source": [
    "# Function to calculate strong volume\n",
    "def calculate_strong_volume(data):\n",
    "    \"\"\"Calculate the Strong Volume.\"\"\"\n",
    "    \n",
    "    # Ensure the 'volume' and 'averageVolume' columns are of type float\n",
    "    data['volume'] = data['volume'].astype(float)\n",
    "    data['averageVolume'] = data['averageVolume'].astype(float)\n",
    "    \n",
    "    # Calculate strong volume: volume greater than 2 times averageVolume\n",
    "    strongVolume = (data['volume'] > 2 * data['averageVolume']).astype(int)\n",
    "    \n",
    "    # Replace initial values with NaN for insufficient data\n",
    "    if len(data) < 100:\n",
    "        strongVolume[:100] = None  # Set initial values to None (NaN)\n",
    "    \n",
    "    return strongVolume"
   ]
  },
  {
   "cell_type": "code",
   "execution_count": 12,
   "metadata": {},
   "outputs": [],
   "source": [
    "# Function to calculate strong volume 6 months prior of openHigher\n",
    "def calculate_strong_volume_prior(data, window):\n",
    "    \"\"\"Calculate the Strong Volume 6 Months Prior.\"\"\"\n",
    "    \n",
    "    # Ensure that 'strongVolume' is of type int to handle NaNs\n",
    "    data['strongVolume'] = data['strongVolume'].astype(int)\n",
    "\n",
    "    # Calculate rolling sum for the strong volume and shift by one period\n",
    "    strongVolume6MoPrior = data.groupby('symbol')['strongVolume'].rolling(window=window, min_periods=1).sum().shift(1)\n",
    "    # Replace initial values with NaN for insufficient data\n",
    "    strongVolume6MoPrior = strongVolume6MoPrior.reset_index(level=0, drop=True)  # Align with original DataFrame\n",
    "\n",
    "    return (strongVolume6MoPrior >= 3).astype(int)"
   ]
  },
  {
   "cell_type": "code",
   "execution_count": 13,
   "metadata": {},
   "outputs": [],
   "source": [
    "# Function to calculate strong volume after openHigher\n",
    "# def calculate_strong_volume_after(data):\n",
    "#     \"\"\"Calculate the Strong Volume After Open Higher.\"\"\"\n",
    "    \n",
    "#     # Ensure that 'strongVolume' and 'openHigher' are of type int to handle NaNs\n",
    "#     data['strongVolume'] = data['strongVolume'].astype(int)\n",
    "#     data['openHigher'] = data['openHigher'].astype(int)\n",
    "    \n",
    "#     # Initialize the new column with default values\n",
    "#     data['strongVolumeAfterOpenHigher'] = 0\n",
    "\n",
    "#     # Loop through each group of 'symbol'\n",
    "#     for symbol, group in data.groupby('symbol'):\n",
    "#         # Create a temporary column for strongVolume counts\n",
    "#         group['strong_count'] = group['strongVolume'].rolling(window=4).sum().shift(-4)\n",
    "        \n",
    "#         # Check for openHigher and set newColumn\n",
    "#         for index in group.index:\n",
    "#             if group.at[index, 'openHigher'] == 1 and group.at[index, 'strong_count'] >= 2:\n",
    "#                 data.at[index, 'strongVolumeAfterOpenHigher'] = 1\n",
    "    \n",
    "#     return data"
   ]
  },
  {
   "cell_type": "code",
   "execution_count": 14,
   "metadata": {},
   "outputs": [],
   "source": [
    "# Function to calculate accumulating volume that includes all previous volume functions\n",
    "def calculate_accumulating_volume(data):\n",
    "    \"\"\"Calculate the accumulating volume.\"\"\"\n",
    "    # Ensure that 'strongVolume' and 'openHigher' are of type int to handle NaNs\n",
    "    data['strongVolume'] = data['strongVolume'].fillna(0).astype(int)\n",
    "    data['strongVolume6MoPrior'] = data['strongVolume6MoPrior'].fillna(0).astype(int)\n",
    "    accVolume = ((data['strongVolume'] == 1) & (data['strongVolume6MoPrior'] == 1)).astype(int)\n",
    "    \n",
    "    return accVolume"
   ]
  },
  {
   "cell_type": "code",
   "execution_count": 15,
   "metadata": {},
   "outputs": [],
   "source": [
    "# Function to calculate uptrend from ema50.\n",
    "def calculate_uptrend(data):\n",
    "    \"\"\"Calculate the uptrend based on ema50.\"\"\"\n",
    "    # Fill NaN values in the 'ema50' column\n",
    "    data['ema50'] = data['ema50'].fillna(0).astype(float)\n",
    "    \n",
    "    # Calculate uptrend using transform to maintain index alignment\n",
    "    uptrend = data.groupby('symbol')['ema50'].transform(lambda x: (x > x.shift(5)).astype(int))\n",
    "    \n",
    "    return uptrend"
   ]
  },
  {
   "cell_type": "code",
   "execution_count": 16,
   "metadata": {},
   "outputs": [],
   "source": [
    "# Function to calculate accumulating volume that includes all previous volume functions\n",
    "def calculate_close_high(data):\n",
    "    \"\"\"Calculate the accumulating volume.\"\"\"\n",
    "    # Ensure that 'strongVolume' and 'openHigher' are of type int to handle NaNs\n",
    "    data['openHigher'] = data['openHigher'].fillna(0).astype(int)\n",
    "    closeHigh = ((data['openHigher'] == 1) & (data['close'] > data['open'])).astype(int)\n",
    "    \n",
    "    return closeHigh"
   ]
  },
  {
   "cell_type": "code",
   "execution_count": 17,
   "metadata": {},
   "outputs": [],
   "source": [
    "# Function to calculate accumulating volume that includes all previous volume functions\n",
    "def calculate_model_peg_alert(data):\n",
    "    \"\"\"Calculate the accumulating volume.\"\"\"\n",
    "    # Ensure that 'strongVolume' and 'openHigher' are of type int to handle NaNs\n",
    "    data['exceptionalCandleSize'] = data['exceptionalCandleSize'].fillna(0).astype(int)\n",
    "    data['openHigher'] = data['openHigher'].fillna(0).astype(int)\n",
    "    data['accVolume'] = data['accVolume'].fillna(0).astype(int)\n",
    "    data['uptrend'] = data['uptrend'].fillna(0).astype(int)\n",
    "    data['closeHigh'] = data['closeHigh'].fillna(0).astype(int)\n",
    "    # Boolean evaluation that all the parameters are 1.\n",
    "    pegAlert = ((data['exceptionalCandleSize'] == 1) \n",
    "                 & (data['openHigher'] == 1) \n",
    "                 & (data['accVolume'] == 1)\n",
    "                 & (data['uptrend'] == 1)\n",
    "                 & (data['closeHigh'] == 1)).astype(int)\n",
    "    \n",
    "    \n",
    "    return pegAlert"
   ]
  },
  {
   "cell_type": "code",
   "execution_count": 18,
   "metadata": {},
   "outputs": [],
   "source": [
    "# # Sample DataFrame\n",
    "# datatest = pd.DataFrame({\n",
    "#     'symbol': ['AAPL'] * 3 + ['MSFT'] * 3,\n",
    "#     'open': [10, 11, 12] * 2,\n",
    "#     'close': [9.4, 12, 10.7] * 2,\n",
    "#     'openHigher': [1, 1, 1] * 2\n",
    "# })"
   ]
  },
  {
   "cell_type": "code",
   "execution_count": 19,
   "metadata": {},
   "outputs": [],
   "source": [
    "# Calculate candle size from high minus low.\n",
    "# datatest['candleSize'] = calculate_candle_size(datatest)\n",
    "\n",
    "# # Calculate average candle size from high minus low.\n",
    "# datatest['avgCandleSize'] = calculate_avg_candle_size(datatest, 3)\n",
    "\n",
    "# # Calculate std dev candle size from high minus low.\n",
    "# datatest['stdDevCandleSize'] = calculate_std_dev_candle_size(datatest, 3)\n",
    "\n",
    "# # Calculate if candle size is 2 std dev higher than average candle size. Boolean.\n",
    "# datatest['exceptionalCandleSize'] = calculate_exceptional_candle_size(datatest)\n",
    "\n",
    "# test closeHigh\n",
    "# datatest['closeHigh'] = calculate_close_high(datatest)\n",
    "\n",
    "# print(datatest)"
   ]
  },
  {
   "cell_type": "code",
   "execution_count": 33,
   "metadata": {},
   "outputs": [],
   "source": [
    "# Use main() from readRawAggs\n",
    "df = main()\n",
    "#Sort the data by date\n",
    "df = df.sort_values(by=['symbol', 'timestamp'])\n",
    "\n",
    "# Calculate candle size from high minus low.\n",
    "df['candleSize'] = calculate_candle_size(df)\n",
    "\n",
    "# Calculate average candle size from high minus low.\n",
    "df['ma100CandleSize'] = calculate_avg_candle_size(df, 100)\n",
    "\n",
    "# Calculate average candle size from high minus low.\n",
    "df['ma14CandleSize'] = calculate_avg_candle_size(df, 14)\n",
    "\n",
    "# Calculate volatility for ATR (average true range as %).\n",
    "df['volatility'] = calculate_volatility(df)\n",
    "\n",
    "# Calculate std dev candle size from high minus low.\n",
    "df['stdDevCandleSize'] = calculate_std_dev_candle_size(df, 100)\n",
    "\n",
    "# Candle standard deviation in percentage\n",
    "df['stdDevCandleSizePer'] = (df['stdDevCandleSize'] / df['candleSize'])\n",
    "\n",
    "# Trailing stop price is 1 - (( 1+ std% ) * volatility) * high.\n",
    "df['trailingStop'] = (1 - (( 1 + df['stdDevCandleSizePer'] ) * df['volatility'])) * df['high']\n",
    "\n",
    "# Calculate if candle size is 2 std dev higher than average candle size. Boolean.\n",
    "df['exceptionalCandleSize'] = calculate_exceptional_candle_size(df)\n",
    "\n",
    "# Calculate EMA20 and EMA50.\n",
    "df['ema20'] = calculate_ema(df, 20)\n",
    "df['ema50'] = calculate_ema(df, 50)\n",
    "\n",
    "# Calculate when stock opens higher than previous day close.\n",
    "df['openHigher'] = calculate_open_higher(df)\n",
    "\n",
    "# Calculate average volume from past 100 days.\n",
    "df['averageVolume'] = calculate_avg_volume(df, 100)\n",
    "\n",
    "# Calculate strong volume. 1 if over 2x average volume.\n",
    "df['strongVolume'] = calculate_strong_volume(df)\n",
    "\n",
    "# Calculate strong volume 5-6 months prior opening higher. 100 trading days is 6 months.\n",
    "df['strongVolume6MoPrior'] = calculate_strong_volume_prior(df, 100)\n",
    "\n",
    "# Calculate strong volume after opening higher. Two strong volume days within 5 day period.\n",
    "# df['strongVolumeAfterOpenHigher'] = calculate_strong_volume_after(df)\n",
    "\n",
    "# Calculate if all strong volume indicators give a positive singal.\n",
    "df['accVolume'] = calculate_accumulating_volume(df)\n",
    "\n",
    "# Calculate if EMA50 has an uptrend in the past month.\n",
    "df['uptrend'] = calculate_uptrend(df)\n",
    "\n",
    "# Calculate if day opens higher than previous day and also close higher than opens.\n",
    "df['closeHigh'] = calculate_close_high(df)\n",
    "\n",
    "# Calculate if all the boolean evaluations return 1 then it is a PEG alert.\n",
    "df['pegAlert'] = calculate_model_peg_alert(df)"
   ]
  },
  {
   "cell_type": "code",
   "execution_count": 34,
   "metadata": {},
   "outputs": [],
   "source": [
    "# Round columns to 2 decimal places and one to 4.\n",
    "df[['close', 'open', 'high', 'low', 'ema20', 'ema50', 'trailingStop']] = df[['close', 'open', 'high', 'low', 'ema20', 'ema50', 'trailingStop']].round(2)\n",
    "df[['exceptionalCandleSize', 'volatility']] = df[['exceptionalCandleSize', 'volatility']].round(4)\n",
    "\n",
    "# Round the large value column to the nearest hundred without decimals\n",
    "df['volume'] = (df['volume'] / 100).round() * 100\n",
    "df['volume'] = (df['volume']).astype(int)\n",
    "\n",
    "# Drop unecessary columns from dataframe.\n",
    "df.drop(['candleSize', 'ma100CandleSize', 'prev_close', 'ma14CandleSize', 'stdDevCandleSize', 'stdDevCandleSizePer'], axis=1, inplace=True)"
   ]
  },
  {
   "cell_type": "code",
   "execution_count": 35,
   "metadata": {},
   "outputs": [
    {
     "name": "stdout",
     "output_type": "stream",
     "text": [
      "      symbol  close  open   high    low  volume   timestamp  volatility  \\\n",
      "18551   AKRO  49.49  54.8  54.88  49.47  904100  2023-01-03      0.0668   \n",
      "\n",
      "       trailingStop  exceptionalCandleSize  ema20  ema50  openHigher  \\\n",
      "18551         50.37                      1  47.21  43.03           0   \n",
      "\n",
      "       averageVolume  strongVolume  strongVolume6MoPrior  accVolume  uptrend  \\\n",
      "18551     1276425.75             0                     1          0        1   \n",
      "\n",
      "       closeHigh  pegAlert  \n",
      "18551          0         0  \n"
     ]
    }
   ],
   "source": [
    "df_non_nan = df[df['volatility'].notna()]\n",
    "df2 = df_non_nan[df_non_nan['symbol']=='AKRO']\n",
    "df3 = df2[df2['timestamp']=='2023-01-03']\n",
    "\n",
    "# Display the filtered DataFrame\n",
    "print(df3)"
   ]
  },
  {
   "cell_type": "code",
   "execution_count": 36,
   "metadata": {},
   "outputs": [
    {
     "name": "stdout",
     "output_type": "stream",
     "text": [
      "  symbol  close   open   high    low   volume   timestamp  volatility  \\\n",
      "0   AACT  10.12  10.10  10.15  10.10   603100  2023-06-12         NaN   \n",
      "1   AACT  10.11  10.14  10.14  10.11     5500  2023-06-13         NaN   \n",
      "2   AACT  10.10  10.11  10.13  10.10   143900  2023-06-14         NaN   \n",
      "3   AACT  10.11  10.11  10.11  10.10  2061100  2023-06-15         NaN   \n",
      "4   AACT  10.11  10.12  10.12  10.11   251000  2023-06-16         NaN   \n",
      "\n",
      "   trailingStop  exceptionalCandleSize  ema20  ema50  openHigher  \\\n",
      "0           NaN                      0  10.12  10.12           0   \n",
      "1           NaN                      0  10.12  10.12           0   \n",
      "2           NaN                      0  10.12  10.12           0   \n",
      "3           NaN                      0  10.12  10.12           0   \n",
      "4           NaN                      0  10.12  10.12           0   \n",
      "\n",
      "   averageVolume  strongVolume  strongVolume6MoPrior  accVolume  uptrend  \\\n",
      "0            NaN             0                     0          0        0   \n",
      "1            NaN             0                     0          0        0   \n",
      "2            NaN             0                     0          0        0   \n",
      "3            NaN             0                     0          0        0   \n",
      "4            NaN             0                     0          0        0   \n",
      "\n",
      "   closeHigh  pegAlert  \n",
      "0          0         0  \n",
      "1          0         0  \n",
      "2          0         0  \n",
      "3          0         0  \n",
      "4          0         0  \n"
     ]
    }
   ],
   "source": [
    "print(df.head())"
   ]
  },
  {
   "cell_type": "code",
   "execution_count": 24,
   "metadata": {},
   "outputs": [],
   "source": [
    "# Define the path where the files will be saved\n",
    "save_path = \"C:\\\\Users\\\\SamuliMustonen\\\\Documents\\\\Ready Solutions\\\\Docs\\\\StockTrading\\\\Data\\\\rawComplete\"\n",
    "\n",
    "# Ensure the save directory exists\n",
    "os.makedirs(save_path, exist_ok=True)\n",
    "\n",
    "# Define your date range for the filename\n",
    "start_date = \"2022-01-01\"\n",
    "end_date = \"2024-09-30\"\n",
    "\n",
    "# Save the data to a compressed .pickle.lz4 file \n",
    "filename = os.path.join(save_path, f\"all_raw_data_{start_date}_to_{end_date}.pickle.gz\")\n",
    "\n",
    "try:\n",
    "    # Save the DataFrame using pandas with lz4 compression\n",
    "    df.to_pickle(filename, compression='gzip')\n",
    "    logging.info(f\"Saved to {filename}\")\n",
    "except Exception as e:\n",
    "    logging.error(f\"Serialization Error: {e}\")"
   ]
  }
 ],
 "metadata": {
  "kernelspec": {
   "display_name": "Python 3",
   "language": "python",
   "name": "python3"
  },
  "language_info": {
   "codemirror_mode": {
    "name": "ipython",
    "version": 3
   },
   "file_extension": ".py",
   "mimetype": "text/x-python",
   "name": "python",
   "nbconvert_exporter": "python",
   "pygments_lexer": "ipython3",
   "version": "3.9.11"
  }
 },
 "nbformat": 4,
 "nbformat_minor": 2
}
