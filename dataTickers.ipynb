{
 "cells": [
  {
   "cell_type": "code",
   "execution_count": 23,
   "metadata": {},
   "outputs": [],
   "source": [
    "import requests\n",
    "import pandas as pd\n",
    "from datetime import datetime, timedelta\n",
    "import time\n",
    "import csv\n",
    "from polygon import RESTClient"
   ]
  },
  {
   "cell_type": "code",
   "execution_count": 7,
   "metadata": {},
   "outputs": [],
   "source": [
    "# Define the API details\n",
    "# client = RESTClient(api_key=\"<API_KEY>\")\n",
    "client = RESTClient(api_key=\"PfZz8S38d1PO4heiApoM7SGLFohMi3KE\")\n",
    "client = RESTClient(trace=True)\n",
    "\n",
    "# Fetch the list of tickers with pagination\n",
    "tickers = []\n",
    "for t in client.list_tickers(market=\"stocks\", limit=1000):\n",
    "    tickers.append(t.ticker)  # Limit columns to \"ticker\" only\n",
    "\n",
    "# Initialize an empty list to hold the data for each ticker\n",
    "ticker_data = []\n",
    "\n",
    "# Loop through each ticker and get the details\n",
    "for ticker in tickers:\n",
    "    details = client.get_ticker_details(ticker)\n",
    "    market_cap = details.market_cap if hasattr(details, 'market_cap') else None\n",
    "    ticker_data.append({'Ticker': ticker, 'Market-Cap': market_cap})\n",
    "\n",
    "# Convert the list to a DataFrame\n",
    "df = pd.DataFrame(ticker_data)\n"
   ]
  },
  {
   "cell_type": "code",
   "execution_count": 19,
   "metadata": {},
   "outputs": [
    {
     "name": "stdout",
     "output_type": "stream",
     "text": [
      "  Ticker    Market-Cap\n",
      "0      A  3.951232e+10\n",
      "1     AA  1.086837e+10\n",
      "2    AAA           NaN\n",
      "3   AAAU           NaN\n",
      "4   AACG  3.195000e+07\n"
     ]
    }
   ],
   "source": [
    "# Show the first few rows of the dataframe\n",
    "print(df.head())"
   ]
  },
  {
   "cell_type": "code",
   "execution_count": 27,
   "metadata": {},
   "outputs": [
    {
     "name": "stdout",
     "output_type": "stream",
     "text": [
      "Filtered data saved to C:\\Users\\SamuliMustonen\\Documents\\Ready Solutions\\Docs\\StockTrading\\Data\\Tickers\\tickers_500m_to_10b_20241018_150701.csv\n"
     ]
    }
   ],
   "source": [
    "# Define the market cap range\n",
    "min_market_cap = 500_000_000  # 100 million USD\n",
    "max_market_cap = 10_000_000_000  # 10 billion USD\n",
    "\n",
    "# Filter the DataFrame based on the market cap range and limit rows\n",
    "df = df.fillna(0)\n",
    "df['Market-Cap'] = df['Market-Cap'].astype(int)\n",
    "filtered_df = df[(df['Market-Cap'] >= min_market_cap) & (df['Market-Cap'] <= max_market_cap)]\n",
    "filtered_df.sort_values(by=['Market-Cap'], ascending=True)\n",
    "filtered_df.tail(1000)\n",
    "\n",
    "# Save the filtered DataFrame to a CSV file with a timestamp\n",
    "timestamp = datetime.now().strftime(\"%Y%m%d_%H%M%S\")\n",
    "file_path = f\"C:\\\\Users\\\\SamuliMustonen\\\\Documents\\\\Ready Solutions\\\\Docs\\\\StockTrading\\\\Data\\\\Tickers\\\\tickers_500m_to_10b_{timestamp}.csv\"\n",
    "filtered_df.to_csv(file_path, index=False)\n",
    "\n",
    "print(f\"Filtered data saved to {file_path}\")"
   ]
  }
 ],
 "metadata": {
  "kernelspec": {
   "display_name": "Python 3",
   "language": "python",
   "name": "python3"
  },
  "language_info": {
   "codemirror_mode": {
    "name": "ipython",
    "version": 3
   },
   "file_extension": ".py",
   "mimetype": "text/x-python",
   "name": "python",
   "nbconvert_exporter": "python",
   "pygments_lexer": "ipython3",
   "version": "3.9.11"
  }
 },
 "nbformat": 4,
 "nbformat_minor": 2
}
