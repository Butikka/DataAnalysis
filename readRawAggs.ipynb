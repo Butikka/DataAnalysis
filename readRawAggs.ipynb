{
 "cells": [
  {
   "cell_type": "code",
   "execution_count": 3,
   "metadata": {},
   "outputs": [],
   "source": [
    "import requests\n",
    "import pandas as pd\n",
    "# from datetime import datetime, timedelta, date\n",
    "import datetime\n",
    "import time\n",
    "from polygon import RESTClient\n",
    "import logging\n",
    "import signal\n",
    "import sys\n",
    "import pickle\n",
    "import lz4.frame  # type: ignore\n",
    "import concurrent.futures\n",
    "import os\n",
    "import pandas as pd\n",
    "import numpy as np\n",
    "import glob"
   ]
  },
  {
   "cell_type": "code",
   "execution_count": 4,
   "metadata": {},
   "outputs": [],
   "source": [
    "def read_and_extract_from_file(filepath):\n",
    "    try:\n",
    "        with open(filepath, \"rb\") as file:\n",
    "            compressed_data = file.read()\n",
    "            data = pickle.loads(lz4.frame.decompress(compressed_data))\n",
    "            # print(f\"Data from {filepath}: {data[:1]}\")\n",
    "            return data\n",
    "    except FileNotFoundError:\n",
    "        print(f\"No file found: {filepath}\")\n",
    "    except Exception as e:\n",
    "        print(f\"An error occurred: {e}\")\n",
    "    return None"
   ]
  },
  {
   "cell_type": "code",
   "execution_count": 5,
   "metadata": {},
   "outputs": [],
   "source": [
    "# Process files and inspect data\n",
    "def process_files_in_folder(folder_path):\n",
    "    files = glob.glob(os.path.join(folder_path, \"*.pickle.lz4\"))\n",
    "    \n",
    "    df_list = []\n",
    "    \n",
    "    for file in files:\n",
    "        symbol = os.path.basename(file).split('-')[0]\n",
    "        data = read_and_extract_from_file(file)\n",
    "        \n",
    "        if data is None or len(data) == 0:\n",
    "            continue\n",
    "        \n",
    "        # Convert to DataFrame\n",
    "        df = pd.DataFrame(data)\n",
    "        \n",
    "        # Only proceed if the expected columns exist\n",
    "        if {'close', 'open', 'high', 'low', 'volume', 'timestamp'}.issubset(df.columns):\n",
    "            df_filtered = df[['close', 'open', 'high', 'low', 'volume', 'timestamp']].copy()\n",
    "            df_filtered['symbol'] = symbol\n",
    "            df_filtered = df_filtered[['symbol', 'close', 'open', 'high', 'low', 'volume', 'timestamp']]\n",
    "            # Convert the 'timestamp' column from milliseconds to datetime\n",
    "            df_filtered['timestamp'] = pd.to_datetime(df_filtered['timestamp'] / 1000, unit='s')\n",
    "            # Format the 'timestamp' as 'yyyy-mm-dd'\n",
    "            df_filtered['timestamp'] = df_filtered['timestamp'].dt.strftime('%Y-%m-%d')\n",
    "            df_list.append(df_filtered)\n",
    "        else:\n",
    "            print(f\"Missing expected columns in {file}. Columns available: {df.columns}\")\n",
    "    \n",
    "    if df_list:\n",
    "        full_df = pd.concat(df_list, ignore_index=True)\n",
    "        return full_df\n",
    "    else:\n",
    "        print(\"No data was processed.\")\n",
    "        return None"
   ]
  },
  {
   "cell_type": "code",
   "execution_count": 6,
   "metadata": {},
   "outputs": [],
   "source": [
    "# Main function to run the process\n",
    "def main():\n",
    "    folder_path = \"C:\\\\Users\\\\SamuliMustonen\\\\Documents\\\\Ready Solutions\\\\Docs\\\\StockTrading\\\\Data\\\\rawAggs\"\n",
    "    df = process_files_in_folder(folder_path)\n",
    "    \n",
    "    # if df is not None:\n",
    "    #     print(df.head())\n",
    "\n",
    "    return df\n",
    "\n",
    "if __name__ == \"__main__\":\n",
    "    main()"
   ]
  }
 ],
 "metadata": {
  "kernelspec": {
   "display_name": "Python 3",
   "language": "python",
   "name": "python3"
  },
  "language_info": {
   "codemirror_mode": {
    "name": "ipython",
    "version": 3
   },
   "file_extension": ".py",
   "mimetype": "text/x-python",
   "name": "python",
   "nbconvert_exporter": "python",
   "pygments_lexer": "ipython3",
   "version": "3.9.11"
  }
 },
 "nbformat": 4,
 "nbformat_minor": 2
}
